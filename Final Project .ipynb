{
 "cells": [
  {
   "cell_type": "markdown",
   "metadata": {
    "collapsed": false
   },
   "source": [
    "Dataset: Yahoo Account Users' Movie Ratings:\n",
    "\n",
    "Overview: The dataset is made up of information from Yahoo users who rated certain movies from their Yahoo accounts. Available data that we will use for our analysis include: movie ID, movie title, movie year of release, Yahoo movie ratings, Movie Mom movie ratings, rater gender, and rater year of birth.\n",
    "\n",
    "Analysis 1A will analyze the correlation between the Yahoo movie ratings, the critic ratings, and the Movie Mom movie ratings, which is a different forum that allows users to rate movies. \n",
    "\n",
    "Analysis 1B will analayze the movies' year of release to discover which year that the most postively rated movies. "
   ]
  },
  {
   "cell_type": "code",
   "execution_count": 1,
   "metadata": {
    "collapsed": true
   },
   "outputs": [],
   "source": [
    "import pandas as pd\n",
    "pd.options.display.float_format = '{:,.2f}'.format\n",
    "import matplotlib.pyplot as plt\n",
    "%matplotlib inline\n",
    "\n",
    "rater = pd.read_csv('ydata-ymovies-user-demographics-v1_0.csv', header = None, index_col=False, infer_datetime_format=True)\n",
    "rating = pd.read_csv('ydata-ymovies-user-movie-ratings-train-v1_0.csv', header = None, index_col=False, infer_datetime_format=True)"
   ]
  },
  {
   "cell_type": "code",
   "execution_count": 2,
   "metadata": {
    "collapsed": false
   },
   "outputs": [],
   "source": [
    "data = pd.read_csv('ydata-ymovies-movie-content-descr-v1_0.csv', header = None, encoding = \"ISO-8859-1\",index_col=False, infer_datetime_format=True)"
   ]
  },
  {
   "cell_type": "code",
   "execution_count": 4,
   "metadata": {
    "collapsed": false
   },
   "outputs": [
    {
     "data": {
      "text/plain": [
       "(106959, 34)"
      ]
     },
     "execution_count": 4,
     "metadata": {},
     "output_type": "execute_result"
    }
   ],
   "source": [
    "data.shape"
   ]
  },
  {
   "cell_type": "code",
   "execution_count": 5,
   "metadata": {
    "collapsed": false
   },
   "outputs": [
    {
     "data": {
      "text/html": [
       "<div>\n",
       "<table border=\"1\" class=\"dataframe\">\n",
       "  <thead>\n",
       "    <tr style=\"text-align: right;\">\n",
       "      <th></th>\n",
       "      <th>0</th>\n",
       "      <th>1</th>\n",
       "      <th>2</th>\n",
       "      <th>3</th>\n",
       "      <th>4</th>\n",
       "      <th>5</th>\n",
       "      <th>6</th>\n",
       "      <th>7</th>\n",
       "      <th>8</th>\n",
       "      <th>9</th>\n",
       "      <th>...</th>\n",
       "      <th>24</th>\n",
       "      <th>25</th>\n",
       "      <th>26</th>\n",
       "      <th>27</th>\n",
       "      <th>28</th>\n",
       "      <th>29</th>\n",
       "      <th>30</th>\n",
       "      <th>31</th>\n",
       "      <th>32</th>\n",
       "      <th>33</th>\n",
       "    </tr>\n",
       "  </thead>\n",
       "  <tbody>\n",
       "    <tr>\n",
       "      <th>0</th>\n",
       "      <td>1800010969</td>\n",
       "      <td>The 1985 Admiral's Cup (1997)</td>\n",
       "      <td>Small boats vs. big winds in this the official...</td>\n",
       "      <td>\\N</td>\n",
       "      <td>\\N</td>\n",
       "      <td>\\N</td>\n",
       "      <td>NaN</td>\n",
       "      <td>\\N</td>\n",
       "      <td>\\N</td>\n",
       "      <td>\\N</td>\n",
       "      <td>...</td>\n",
       "      <td>\\N</td>\n",
       "      <td>\\N</td>\n",
       "      <td>\\N</td>\n",
       "      <td>\\N</td>\n",
       "      <td>\\N</td>\n",
       "      <td>\\N</td>\n",
       "      <td>\\N</td>\n",
       "      <td>\\N</td>\n",
       "      <td>\\N</td>\n",
       "      <td>\\N</td>\n",
       "    </tr>\n",
       "    <tr>\n",
       "      <th>1</th>\n",
       "      <td>1800011786</td>\n",
       "      <td>984 - Prisoner of the Future (1984)</td>\n",
       "      <td>984, a man of the future, is imprisoned withou...</td>\n",
       "      <td>\\N</td>\n",
       "      <td>\\N</td>\n",
       "      <td>\\N</td>\n",
       "      <td>NaN</td>\n",
       "      <td>\\N</td>\n",
       "      <td>\\N</td>\n",
       "      <td>\\N</td>\n",
       "      <td>...</td>\n",
       "      <td>\\N</td>\n",
       "      <td>\\N</td>\n",
       "      <td>\\N</td>\n",
       "      <td>\\N</td>\n",
       "      <td>\\N</td>\n",
       "      <td>\\N</td>\n",
       "      <td>\\N</td>\n",
       "      <td>\\N</td>\n",
       "      <td>\\N</td>\n",
       "      <td>\\N</td>\n",
       "    </tr>\n",
       "    <tr>\n",
       "      <th>2</th>\n",
       "      <td>1800011850</td>\n",
       "      <td>A's All-Star Almanac (1987)</td>\n",
       "      <td>Seen here are great moments from All-Star Game...</td>\n",
       "      <td>\\N</td>\n",
       "      <td>\\N</td>\n",
       "      <td>\\N</td>\n",
       "      <td>NaN</td>\n",
       "      <td>\\N</td>\n",
       "      <td>\\N</td>\n",
       "      <td>\\N</td>\n",
       "      <td>...</td>\n",
       "      <td>\\N</td>\n",
       "      <td>\\N</td>\n",
       "      <td>\\N</td>\n",
       "      <td>\\N</td>\n",
       "      <td>\\N</td>\n",
       "      <td>\\N</td>\n",
       "      <td>\\N</td>\n",
       "      <td>3.034066075</td>\n",
       "      <td>7</td>\n",
       "      <td>1</td>\n",
       "    </tr>\n",
       "    <tr>\n",
       "      <th>3</th>\n",
       "      <td>1800012991</td>\n",
       "      <td>The Adventures of Annie Oakley (1953)</td>\n",
       "      <td>Two great episodes of this western series. \"An...</td>\n",
       "      <td>\\N</td>\n",
       "      <td>\\N</td>\n",
       "      <td>\\N</td>\n",
       "      <td>NaN</td>\n",
       "      <td>\\N</td>\n",
       "      <td>\\N</td>\n",
       "      <td>\\N</td>\n",
       "      <td>...</td>\n",
       "      <td>\\N</td>\n",
       "      <td>\\N</td>\n",
       "      <td>\\N</td>\n",
       "      <td>\\N</td>\n",
       "      <td>\\N</td>\n",
       "      <td>\\N</td>\n",
       "      <td>\\N</td>\n",
       "      <td>2.743485208</td>\n",
       "      <td>6</td>\n",
       "      <td>1</td>\n",
       "    </tr>\n",
       "    <tr>\n",
       "      <th>4</th>\n",
       "      <td>1800013061</td>\n",
       "      <td>The Adventures of Black Beauty 1 (1972)</td>\n",
       "      <td>The Fugitive introduces the story of the once ...</td>\n",
       "      <td>\\N</td>\n",
       "      <td>\\N</td>\n",
       "      <td>\\N</td>\n",
       "      <td>NaN</td>\n",
       "      <td>\\N</td>\n",
       "      <td>\\N</td>\n",
       "      <td>\\N</td>\n",
       "      <td>...</td>\n",
       "      <td>\\N</td>\n",
       "      <td>\\N</td>\n",
       "      <td>\\N</td>\n",
       "      <td>\\N</td>\n",
       "      <td>\\N</td>\n",
       "      <td>\\N</td>\n",
       "      <td>\\N</td>\n",
       "      <td>\\N</td>\n",
       "      <td>\\N</td>\n",
       "      <td>\\N</td>\n",
       "    </tr>\n",
       "  </tbody>\n",
       "</table>\n",
       "<p>5 rows × 34 columns</p>\n",
       "</div>"
      ],
      "text/plain": [
       "           0                                        1   \\\n",
       "0  1800010969            The 1985 Admiral's Cup (1997)   \n",
       "1  1800011786      984 - Prisoner of the Future (1984)   \n",
       "2  1800011850              A's All-Star Almanac (1987)   \n",
       "3  1800012991    The Adventures of Annie Oakley (1953)   \n",
       "4  1800013061  The Adventures of Black Beauty 1 (1972)   \n",
       "\n",
       "                                                  2   3   4   5    6   7   8   \\\n",
       "0  Small boats vs. big winds in this the official...  \\N  \\N  \\N  NaN  \\N  \\N   \n",
       "1  984, a man of the future, is imprisoned withou...  \\N  \\N  \\N  NaN  \\N  \\N   \n",
       "2  Seen here are great moments from All-Star Game...  \\N  \\N  \\N  NaN  \\N  \\N   \n",
       "3  Two great episodes of this western series. \"An...  \\N  \\N  \\N  NaN  \\N  \\N   \n",
       "4  The Fugitive introduces the story of the once ...  \\N  \\N  \\N  NaN  \\N  \\N   \n",
       "\n",
       "   9  ...  24  25  26  27  28  29  30           31  32  33  \n",
       "0  \\N ...  \\N  \\N  \\N  \\N  \\N  \\N  \\N           \\N  \\N  \\N  \n",
       "1  \\N ...  \\N  \\N  \\N  \\N  \\N  \\N  \\N           \\N  \\N  \\N  \n",
       "2  \\N ...  \\N  \\N  \\N  \\N  \\N  \\N  \\N  3.034066075   7   1  \n",
       "3  \\N ...  \\N  \\N  \\N  \\N  \\N  \\N  \\N  2.743485208   6   1  \n",
       "4  \\N ...  \\N  \\N  \\N  \\N  \\N  \\N  \\N           \\N  \\N  \\N  \n",
       "\n",
       "[5 rows x 34 columns]"
      ]
     },
     "execution_count": 5,
     "metadata": {},
     "output_type": "execute_result"
    }
   ],
   "source": [
    "data.head()"
   ]
  },
  {
   "cell_type": "code",
   "execution_count": 14,
   "metadata": {
    "collapsed": false
   },
   "outputs": [],
   "source": [
    "data1 = data[[0, 1, 6, 10, 18, 20, 21, 24, 32, 33]]\n",
    "#the columns that we will be focusing on for our analysis from this dataset"
   ]
  },
  {
   "cell_type": "code",
   "execution_count": 15,
   "metadata": {
    "collapsed": false
   },
   "outputs": [],
   "source": [
    "data1.columns = ['ID', 'Title', 'Release Date', 'Genres', 'Avg. Critic Ratings', '# of Awards won', '# of awards nomination', 'Movie Mom Rating', 'Avg. Training Rating', '# of User Ratings']"
   ]
  },
  {
   "cell_type": "code",
   "execution_count": 368,
   "metadata": {
    "collapsed": false
   },
   "outputs": [
    {
     "data": {
      "text/html": [
       "<div>\n",
       "<table border=\"1\" class=\"dataframe\">\n",
       "  <thead>\n",
       "    <tr style=\"text-align: right;\">\n",
       "      <th></th>\n",
       "      <th>ID</th>\n",
       "      <th>Title</th>\n",
       "      <th>Release Date</th>\n",
       "      <th>Genres</th>\n",
       "      <th>Avg. Critic Ratings</th>\n",
       "      <th># of Awards won</th>\n",
       "      <th># of awards nomination</th>\n",
       "      <th>Movie Mom Rating</th>\n",
       "      <th>Avg. Training Rating</th>\n",
       "      <th># of User Ratings</th>\n",
       "    </tr>\n",
       "  </thead>\n",
       "  <tbody>\n",
       "    <tr>\n",
       "      <th>0</th>\n",
       "      <td>1800010969</td>\n",
       "      <td>The 1985 Admiral's Cup (1997)</td>\n",
       "      <td>NaN</td>\n",
       "      <td>Special Interest</td>\n",
       "      <td>\\N</td>\n",
       "      <td>\\N</td>\n",
       "      <td>\\N</td>\n",
       "      <td>\\N</td>\n",
       "      <td>\\N</td>\n",
       "      <td>\\N</td>\n",
       "    </tr>\n",
       "    <tr>\n",
       "      <th>1</th>\n",
       "      <td>1800011786</td>\n",
       "      <td>984 - Prisoner of the Future (1984)</td>\n",
       "      <td>NaN</td>\n",
       "      <td>Science Fiction/Fantasy</td>\n",
       "      <td>\\N</td>\n",
       "      <td>\\N</td>\n",
       "      <td>\\N</td>\n",
       "      <td>\\N</td>\n",
       "      <td>\\N</td>\n",
       "      <td>\\N</td>\n",
       "    </tr>\n",
       "    <tr>\n",
       "      <th>2</th>\n",
       "      <td>1800011850</td>\n",
       "      <td>A's All-Star Almanac (1987)</td>\n",
       "      <td>NaN</td>\n",
       "      <td>Special Interest</td>\n",
       "      <td>\\N</td>\n",
       "      <td>\\N</td>\n",
       "      <td>\\N</td>\n",
       "      <td>\\N</td>\n",
       "      <td>7</td>\n",
       "      <td>1</td>\n",
       "    </tr>\n",
       "    <tr>\n",
       "      <th>3</th>\n",
       "      <td>1800012991</td>\n",
       "      <td>The Adventures of Annie Oakley (1953)</td>\n",
       "      <td>NaN</td>\n",
       "      <td>Western</td>\n",
       "      <td>\\N</td>\n",
       "      <td>\\N</td>\n",
       "      <td>\\N</td>\n",
       "      <td>\\N</td>\n",
       "      <td>6</td>\n",
       "      <td>1</td>\n",
       "    </tr>\n",
       "    <tr>\n",
       "      <th>4</th>\n",
       "      <td>1800013061</td>\n",
       "      <td>The Adventures of Black Beauty 1 (1972)</td>\n",
       "      <td>NaN</td>\n",
       "      <td>Kids/Family</td>\n",
       "      <td>\\N</td>\n",
       "      <td>\\N</td>\n",
       "      <td>\\N</td>\n",
       "      <td>\\N</td>\n",
       "      <td>\\N</td>\n",
       "      <td>\\N</td>\n",
       "    </tr>\n",
       "  </tbody>\n",
       "</table>\n",
       "</div>"
      ],
      "text/plain": [
       "           ID                                    Title Release Date  \\\n",
       "0  1800010969            The 1985 Admiral's Cup (1997)          NaN   \n",
       "1  1800011786      984 - Prisoner of the Future (1984)          NaN   \n",
       "2  1800011850              A's All-Star Almanac (1987)          NaN   \n",
       "3  1800012991    The Adventures of Annie Oakley (1953)          NaN   \n",
       "4  1800013061  The Adventures of Black Beauty 1 (1972)          NaN   \n",
       "\n",
       "                    Genres Avg. Critic Ratings # of Awards won  \\\n",
       "0         Special Interest                  \\N              \\N   \n",
       "1  Science Fiction/Fantasy                  \\N              \\N   \n",
       "2         Special Interest                  \\N              \\N   \n",
       "3                  Western                  \\N              \\N   \n",
       "4              Kids/Family                  \\N              \\N   \n",
       "\n",
       "  # of awards nomination Movie Mom Rating Avg. Training Rating  \\\n",
       "0                     \\N               \\N                   \\N   \n",
       "1                     \\N               \\N                   \\N   \n",
       "2                     \\N               \\N                    7   \n",
       "3                     \\N               \\N                    6   \n",
       "4                     \\N               \\N                   \\N   \n",
       "\n",
       "  # of User Ratings  \n",
       "0                \\N  \n",
       "1                \\N  \n",
       "2                 1  \n",
       "3                 1  \n",
       "4                \\N  "
      ]
     },
     "execution_count": 368,
     "metadata": {},
     "output_type": "execute_result"
    }
   ],
   "source": [
    "data1.head()"
   ]
  },
  {
   "cell_type": "markdown",
   "metadata": {},
   "source": [
    "1A:\n",
    "\n",
    "1. What is the most popular genre?\n",
    "2. How do the different forums rate on the genres?"
   ]
  },
  {
   "cell_type": "code",
   "execution_count": 9,
   "metadata": {
    "collapsed": false
   },
   "outputs": [
    {
     "data": {
      "text/html": [
       "<div>\n",
       "<table border=\"1\" class=\"dataframe\">\n",
       "  <thead>\n",
       "    <tr style=\"text-align: right;\">\n",
       "      <th></th>\n",
       "      <th>Number of Movies</th>\n",
       "    </tr>\n",
       "  </thead>\n",
       "  <tbody>\n",
       "    <tr>\n",
       "      <th>\\N</th>\n",
       "      <td>47,453.00</td>\n",
       "    </tr>\n",
       "    <tr>\n",
       "      <th>Special Interest</th>\n",
       "      <td>16,669.00</td>\n",
       "    </tr>\n",
       "    <tr>\n",
       "      <th>Drama</th>\n",
       "      <td>8,809.00</td>\n",
       "    </tr>\n",
       "    <tr>\n",
       "      <th>Comedy</th>\n",
       "      <td>6,922.00</td>\n",
       "    </tr>\n",
       "    <tr>\n",
       "      <th>Musical/Performing Arts</th>\n",
       "      <td>5,669.00</td>\n",
       "    </tr>\n",
       "    <tr>\n",
       "      <th>Action/Adventure</th>\n",
       "      <td>5,276.00</td>\n",
       "    </tr>\n",
       "    <tr>\n",
       "      <th>Kids/Family</th>\n",
       "      <td>5,258.00</td>\n",
       "    </tr>\n",
       "    <tr>\n",
       "      <th>Art/Foreign</th>\n",
       "      <td>4,356.00</td>\n",
       "    </tr>\n",
       "    <tr>\n",
       "      <th>Suspense/Horror</th>\n",
       "      <td>3,104.00</td>\n",
       "    </tr>\n",
       "    <tr>\n",
       "      <th>Science Fiction/Fantasy</th>\n",
       "      <td>2,326.00</td>\n",
       "    </tr>\n",
       "    <tr>\n",
       "      <th>Western</th>\n",
       "      <td>1,676.00</td>\n",
       "    </tr>\n",
       "    <tr>\n",
       "      <th>Romance</th>\n",
       "      <td>442.00</td>\n",
       "    </tr>\n",
       "    <tr>\n",
       "      <th>Thriller</th>\n",
       "      <td>397.00</td>\n",
       "    </tr>\n",
       "    <tr>\n",
       "      <th>Crime/Gangster</th>\n",
       "      <td>388.00</td>\n",
       "    </tr>\n",
       "    <tr>\n",
       "      <th>Documentary</th>\n",
       "      <td>385.00</td>\n",
       "    </tr>\n",
       "    <tr>\n",
       "      <th>Adult Audience</th>\n",
       "      <td>155.00</td>\n",
       "    </tr>\n",
       "    <tr>\n",
       "      <th>Animation</th>\n",
       "      <td>61.00</td>\n",
       "    </tr>\n",
       "    <tr>\n",
       "      <th>Action and Adventure</th>\n",
       "      <td>1.00</td>\n",
       "    </tr>\n",
       "    <tr>\n",
       "      <th>Reality</th>\n",
       "      <td>1.00</td>\n",
       "    </tr>\n",
       "    <tr>\n",
       "      <th>Miscellaneous</th>\n",
       "      <td>1.00</td>\n",
       "    </tr>\n",
       "    <tr>\n",
       "      <th>Horror</th>\n",
       "      <td>1.00</td>\n",
       "    </tr>\n",
       "    <tr>\n",
       "      <th>Features</th>\n",
       "      <td>1.00</td>\n",
       "    </tr>\n",
       "    <tr>\n",
       "      <th>~Delete</th>\n",
       "      <td>1.00</td>\n",
       "    </tr>\n",
       "  </tbody>\n",
       "</table>\n",
       "</div>"
      ],
      "text/plain": [
       "                         Number of Movies\n",
       "\\N                              47,453.00\n",
       "Special Interest                16,669.00\n",
       "Drama                            8,809.00\n",
       "Comedy                           6,922.00\n",
       "Musical/Performing Arts          5,669.00\n",
       "Action/Adventure                 5,276.00\n",
       "Kids/Family                      5,258.00\n",
       "Art/Foreign                      4,356.00\n",
       "Suspense/Horror                  3,104.00\n",
       "Science Fiction/Fantasy          2,326.00\n",
       "Western                          1,676.00\n",
       "Romance                            442.00\n",
       "Thriller                           397.00\n",
       "Crime/Gangster                     388.00\n",
       "Documentary                        385.00\n",
       "Adult Audience                     155.00\n",
       "Animation                           61.00\n",
       "Action and Adventure                 1.00\n",
       "Reality                              1.00\n",
       "Miscellaneous                        1.00\n",
       "Horror                               1.00\n",
       "Features                             1.00\n",
       "~Delete                              1.00"
      ]
     },
     "execution_count": 9,
     "metadata": {},
     "output_type": "execute_result"
    }
   ],
   "source": [
    "#Segmenting data by genres\n",
    "genres = data1.Genres.apply(lambda x: pd.value_counts(x.split(\"|\"))).sum(axis=0)\n",
    "genreplot = genres.to_frame()\n",
    "genreplot.columns = [\"Number of Movies\"]\n",
    "genreplot.sort_values(by = 'Number of Movies', ascending=False, inplace=True)\n",
    "ranking = genreplot\n",
    "ranking"
   ]
  },
  {
   "cell_type": "code",
   "execution_count": 10,
   "metadata": {
    "collapsed": false,
    "scrolled": true
   },
   "outputs": [
    {
     "data": {
      "text/plain": [
       "<matplotlib.axes._subplots.AxesSubplot at 0x1285640f0>"
      ]
     },
     "execution_count": 10,
     "metadata": {},
     "output_type": "execute_result"
    },
    {
     "data": {
      "image/png": "[encoded data removed]",
      "text/plain": [
       "<matplotlib.figure.Figure at 0x12856d0f0>"
      ]
     },
     "metadata": {},
     "output_type": "display_data"
    }
   ],
   "source": [
    "ranking.plot.bar()\n",
    "#Drop the N if we want to compare the rated genres"
   ]
  },
  {
   "cell_type": "code",
   "execution_count": 340,
   "metadata": {
    "collapsed": false
   },
   "outputs": [
    {
     "data": {
      "text/html": [
       "<div>\n",
       "<table border=\"1\" class=\"dataframe\">\n",
       "  <thead>\n",
       "    <tr style=\"text-align: right;\">\n",
       "      <th></th>\n",
       "      <th>Number of Movies</th>\n",
       "    </tr>\n",
       "  </thead>\n",
       "  <tbody>\n",
       "    <tr>\n",
       "      <th>Special Interest</th>\n",
       "      <td>16,669.00</td>\n",
       "    </tr>\n",
       "    <tr>\n",
       "      <th>Drama</th>\n",
       "      <td>8,809.00</td>\n",
       "    </tr>\n",
       "    <tr>\n",
       "      <th>Comedy</th>\n",
       "      <td>6,922.00</td>\n",
       "    </tr>\n",
       "    <tr>\n",
       "      <th>Musical/Performing Arts</th>\n",
       "      <td>5,669.00</td>\n",
       "    </tr>\n",
       "    <tr>\n",
       "      <th>Action/Adventure</th>\n",
       "      <td>5,276.00</td>\n",
       "    </tr>\n",
       "    <tr>\n",
       "      <th>Kids/Family</th>\n",
       "      <td>5,258.00</td>\n",
       "    </tr>\n",
       "    <tr>\n",
       "      <th>Art/Foreign</th>\n",
       "      <td>4,356.00</td>\n",
       "    </tr>\n",
       "    <tr>\n",
       "      <th>Suspense/Horror</th>\n",
       "      <td>3,104.00</td>\n",
       "    </tr>\n",
       "    <tr>\n",
       "      <th>Science Fiction/Fantasy</th>\n",
       "      <td>2,326.00</td>\n",
       "    </tr>\n",
       "    <tr>\n",
       "      <th>Western</th>\n",
       "      <td>1,676.00</td>\n",
       "    </tr>\n",
       "    <tr>\n",
       "      <th>Romance</th>\n",
       "      <td>442.00</td>\n",
       "    </tr>\n",
       "    <tr>\n",
       "      <th>Thriller</th>\n",
       "      <td>397.00</td>\n",
       "    </tr>\n",
       "    <tr>\n",
       "      <th>Crime/Gangster</th>\n",
       "      <td>388.00</td>\n",
       "    </tr>\n",
       "    <tr>\n",
       "      <th>Documentary</th>\n",
       "      <td>385.00</td>\n",
       "    </tr>\n",
       "    <tr>\n",
       "      <th>Adult Audience</th>\n",
       "      <td>155.00</td>\n",
       "    </tr>\n",
       "    <tr>\n",
       "      <th>Animation</th>\n",
       "      <td>61.00</td>\n",
       "    </tr>\n",
       "    <tr>\n",
       "      <th>Action and Adventure</th>\n",
       "      <td>1.00</td>\n",
       "    </tr>\n",
       "    <tr>\n",
       "      <th>Reality</th>\n",
       "      <td>1.00</td>\n",
       "    </tr>\n",
       "    <tr>\n",
       "      <th>Miscellaneous</th>\n",
       "      <td>1.00</td>\n",
       "    </tr>\n",
       "    <tr>\n",
       "      <th>Horror</th>\n",
       "      <td>1.00</td>\n",
       "    </tr>\n",
       "    <tr>\n",
       "      <th>Features</th>\n",
       "      <td>1.00</td>\n",
       "    </tr>\n",
       "    <tr>\n",
       "      <th>~Delete</th>\n",
       "      <td>1.00</td>\n",
       "    </tr>\n",
       "  </tbody>\n",
       "</table>\n",
       "</div>"
      ],
      "text/plain": [
       "                         Number of Movies\n",
       "Special Interest                16,669.00\n",
       "Drama                            8,809.00\n",
       "Comedy                           6,922.00\n",
       "Musical/Performing Arts          5,669.00\n",
       "Action/Adventure                 5,276.00\n",
       "Kids/Family                      5,258.00\n",
       "Art/Foreign                      4,356.00\n",
       "Suspense/Horror                  3,104.00\n",
       "Science Fiction/Fantasy          2,326.00\n",
       "Western                          1,676.00\n",
       "Romance                            442.00\n",
       "Thriller                           397.00\n",
       "Crime/Gangster                     388.00\n",
       "Documentary                        385.00\n",
       "Adult Audience                     155.00\n",
       "Animation                           61.00\n",
       "Action and Adventure                 1.00\n",
       "Reality                              1.00\n",
       "Miscellaneous                        1.00\n",
       "Horror                               1.00\n",
       "Features                             1.00\n",
       "~Delete                              1.00"
      ]
     },
     "execution_count": 340,
     "metadata": {},
     "output_type": "execute_result"
    }
   ],
   "source": [
    "newranking = ranking.ix[1:]\n",
    "newranking"
   ]
  },
  {
   "cell_type": "code",
   "execution_count": 342,
   "metadata": {
    "collapsed": false
   },
   "outputs": [
    {
     "data": {
      "text/plain": [
       "<matplotlib.axes._subplots.AxesSubplot at 0x11bcc3128>"
      ]
     },
     "execution_count": 342,
     "metadata": {},
     "output_type": "execute_result"
    },
    {
     "data": {
      "image/png": "[encoded data removed]",
      "text/plain": [
       "<matplotlib.figure.Figure at 0x11afae080>"
      ]
     },
     "metadata": {},
     "output_type": "display_data"
    }
   ],
   "source": [
    "newranking.plot.bar()"
   ]
  },
  {
   "cell_type": "markdown",
   "metadata": {},
   "source": [
    "The largest number of recorded genre is: special interest. \n",
    "The second largest number of recorded genre is: drama. \n",
    "\n",
    "The least recorded genres are (tied):\n",
    "1. Action and Adventure\n",
    "2. Reality\n",
    "3. Horror\n",
    "4. Miscellaneous\n",
    "5. Features"
   ]
  },
  {
   "cell_type": "code",
   "execution_count": 350,
   "metadata": {
    "collapsed": false
   },
   "outputs": [
    {
     "data": {
      "text/plain": [
       "<matplotlib.text.Text at 0x12061feb8>"
      ]
     },
     "execution_count": 350,
     "metadata": {},
     "output_type": "execute_result"
    },
    {
     "data": {
      "image/png": "[encoded data removed]",
      "text/plain": [
       "<matplotlib.figure.Figure at 0x11cb5c518>"
      ]
     },
     "metadata": {},
     "output_type": "display_data"
    }
   ],
   "source": [
    "#Checking to see without Special Interest\n",
    "finalranking = newranking[1:]\n",
    "franking = finalranking.plot(kind='bar', title = 'Number of Movies Per Genre', figsize = (35,20), legend=True, fontsize=20)\n",
    "franking.set_xlabel('Genre', fontsize = 30)\n",
    "franking.set_ylabel('Number of Movies', fontsize = 30)"
   ]
  },
  {
   "cell_type": "markdown",
   "metadata": {},
   "source": [
    "Based on this graph, the most popular genres are:\n",
    "1. Drama\n",
    "2. Comedy\n",
    "3. Music/Performing Arts\n",
    "4. Action/Adventure and Kids/Family are tied for fourth\n",
    "5. Arts/Foreign\n",
    "\n",
    "\n",
    "Animation is least number. Perhaps it is due to the fact that it is the latest type of movie, a recent genre?"
   ]
  },
  {
   "cell_type": "markdown",
   "metadata": {},
   "source": [
    "Ratings Analysis"
   ]
  },
  {
   "cell_type": "code",
   "execution_count": 11,
   "metadata": {
    "collapsed": false
   },
   "outputs": [
    {
     "data": {
      "text/html": [
       "<div>\n",
       "<table border=\"1\" class=\"dataframe\">\n",
       "  <thead>\n",
       "    <tr style=\"text-align: right;\">\n",
       "      <th></th>\n",
       "      <th>Movie ID</th>\n",
       "      <th>Title</th>\n",
       "      <th>Genres</th>\n",
       "      <th>Critic_Ratings</th>\n",
       "      <th>Yahoo_Ratings</th>\n",
       "      <th>MovieMom_Ratings</th>\n",
       "    </tr>\n",
       "  </thead>\n",
       "  <tbody>\n",
       "    <tr>\n",
       "      <th>0</th>\n",
       "      <td>1800010969</td>\n",
       "      <td>The 1985 Admiral's Cup (1997)</td>\n",
       "      <td>Special Interest</td>\n",
       "      <td>\\N</td>\n",
       "      <td>\\N</td>\n",
       "      <td>\\N</td>\n",
       "    </tr>\n",
       "    <tr>\n",
       "      <th>1</th>\n",
       "      <td>1800011786</td>\n",
       "      <td>984 - Prisoner of the Future (1984)</td>\n",
       "      <td>Science Fiction/Fantasy</td>\n",
       "      <td>\\N</td>\n",
       "      <td>\\N</td>\n",
       "      <td>\\N</td>\n",
       "    </tr>\n",
       "    <tr>\n",
       "      <th>2</th>\n",
       "      <td>1800011850</td>\n",
       "      <td>A's All-Star Almanac (1987)</td>\n",
       "      <td>Special Interest</td>\n",
       "      <td>\\N</td>\n",
       "      <td>7</td>\n",
       "      <td>\\N</td>\n",
       "    </tr>\n",
       "    <tr>\n",
       "      <th>3</th>\n",
       "      <td>1800012991</td>\n",
       "      <td>The Adventures of Annie Oakley (1953)</td>\n",
       "      <td>Western</td>\n",
       "      <td>\\N</td>\n",
       "      <td>6</td>\n",
       "      <td>\\N</td>\n",
       "    </tr>\n",
       "    <tr>\n",
       "      <th>4</th>\n",
       "      <td>1800013061</td>\n",
       "      <td>The Adventures of Black Beauty 1 (1972)</td>\n",
       "      <td>Kids/Family</td>\n",
       "      <td>\\N</td>\n",
       "      <td>\\N</td>\n",
       "      <td>\\N</td>\n",
       "    </tr>\n",
       "  </tbody>\n",
       "</table>\n",
       "</div>"
      ],
      "text/plain": [
       "     Movie ID                                    Title  \\\n",
       "0  1800010969            The 1985 Admiral's Cup (1997)   \n",
       "1  1800011786      984 - Prisoner of the Future (1984)   \n",
       "2  1800011850              A's All-Star Almanac (1987)   \n",
       "3  1800012991    The Adventures of Annie Oakley (1953)   \n",
       "4  1800013061  The Adventures of Black Beauty 1 (1972)   \n",
       "\n",
       "                    Genres Critic_Ratings Yahoo_Ratings MovieMom_Ratings  \n",
       "0         Special Interest             \\N            \\N               \\N  \n",
       "1  Science Fiction/Fantasy             \\N            \\N               \\N  \n",
       "2         Special Interest             \\N             7               \\N  \n",
       "3                  Western             \\N             6               \\N  \n",
       "4              Kids/Family             \\N            \\N               \\N  "
      ]
     },
     "execution_count": 11,
     "metadata": {},
     "output_type": "execute_result"
    }
   ],
   "source": [
    "ratingsdata = data[[0, 1, 10, 18, 32, 24]]\n",
    "ratingsdata.columns = [\"Movie ID\", \"Title\", \"Genres\", \"Critic_Ratings\", \"Yahoo_Ratings\", \"MovieMom_Ratings\"]\n",
    "ratingsdata.head()"
   ]
  },
  {
   "cell_type": "code",
   "execution_count": 12,
   "metadata": {
    "collapsed": false
   },
   "outputs": [
    {
     "name": "stderr",
     "output_type": "stream",
     "text": [
      "/Users/joshuapark/anaconda/lib/python3.5/site-packages/ipykernel/__main__.py:2: SettingWithCopyWarning: \n",
      "A value is trying to be set on a copy of a slice from a DataFrame.\n",
      "Try using .loc[row_indexer,col_indexer] = value instead\n",
      "\n",
      "See the caveats in the documentation: http://pandas.pydata.org/pandas-docs/stable/indexing.html#indexing-view-versus-copy\n",
      "  from ipykernel import kernelapp as app\n",
      "/Users/joshuapark/anaconda/lib/python3.5/site-packages/ipykernel/__main__.py:3: SettingWithCopyWarning: \n",
      "A value is trying to be set on a copy of a slice from a DataFrame\n",
      "\n",
      "See the caveats in the documentation: http://pandas.pydata.org/pandas-docs/stable/indexing.html#indexing-view-versus-copy\n",
      "  app.launch_new_instance()\n",
      "/Users/joshuapark/anaconda/lib/python3.5/site-packages/ipykernel/__main__.py:6: SettingWithCopyWarning: \n",
      "A value is trying to be set on a copy of a slice from a DataFrame.\n",
      "Try using .loc[row_indexer,col_indexer] = value instead\n",
      "\n",
      "See the caveats in the documentation: http://pandas.pydata.org/pandas-docs/stable/indexing.html#indexing-view-versus-copy\n",
      "/Users/joshuapark/anaconda/lib/python3.5/site-packages/ipykernel/__main__.py:7: SettingWithCopyWarning: \n",
      "A value is trying to be set on a copy of a slice from a DataFrame\n",
      "\n",
      "See the caveats in the documentation: http://pandas.pydata.org/pandas-docs/stable/indexing.html#indexing-view-versus-copy\n",
      "/Users/joshuapark/anaconda/lib/python3.5/site-packages/ipykernel/__main__.py:10: SettingWithCopyWarning: \n",
      "A value is trying to be set on a copy of a slice from a DataFrame.\n",
      "Try using .loc[row_indexer,col_indexer] = value instead\n",
      "\n",
      "See the caveats in the documentation: http://pandas.pydata.org/pandas-docs/stable/indexing.html#indexing-view-versus-copy\n",
      "/Users/joshuapark/anaconda/lib/python3.5/site-packages/ipykernel/__main__.py:11: SettingWithCopyWarning: \n",
      "A value is trying to be set on a copy of a slice from a DataFrame\n",
      "\n",
      "See the caveats in the documentation: http://pandas.pydata.org/pandas-docs/stable/indexing.html#indexing-view-versus-copy\n"
     ]
    }
   ],
   "source": [
    "critic_ratings = ratingsdata[ratingsdata['Critic_Ratings'] != \"\\\\N\"]\n",
    "critic_ratings['Critic_Ratings'] = critic_ratings['Critic_Ratings'].astype(float)\n",
    "critic_ratings.drop(['Yahoo_Ratings', 'MovieMom_Ratings'], axis=1, inplace=True)\n",
    "\n",
    "yahoo_ratings = ratingsdata[ratingsdata['Yahoo_Ratings'] != \"\\\\N\"]\n",
    "yahoo_ratings['Yahoo_Ratings'] = yahoo_ratings['Yahoo_Ratings'].astype(float)\n",
    "yahoo_ratings.drop(['Critic_Ratings', 'MovieMom_Ratings'], axis=1, inplace=True)\n",
    "\n",
    "moviemom_ratings = ratingsdata[ratingsdata['MovieMom_Ratings'] != \"\\\\N\"]\n",
    "moviemom_ratings['MovieMom_Ratings'] = moviemom_ratings['MovieMom_Ratings'].astype(float)\n",
    "moviemom_ratings.drop(['Yahoo_Ratings', 'Critic_Ratings'], axis=1, inplace=True)"
   ]
  },
  {
   "cell_type": "markdown",
   "metadata": {},
   "source": [
    "First, check to see how many ratings from each forum is available in the dataset."
   ]
  },
  {
   "cell_type": "code",
   "execution_count": 13,
   "metadata": {
    "collapsed": false
   },
   "outputs": [
    {
     "data": {
      "text/plain": [
       "8.00     20\n",
       "9.00     19\n",
       "7.00     12\n",
       "7.50     11\n",
       "10.00    11\n",
       "9.40      9\n",
       "9.67      9\n",
       "6.00      9\n",
       "8.60      9\n",
       "7.40      9\n",
       "9.50      9\n",
       "11.40     8\n",
       "11.00     8\n",
       "12.00     8\n",
       "11.80     8\n",
       "7.67      7\n",
       "7.80      7\n",
       "9.33      7\n",
       "8.75      7\n",
       "7.60      7\n",
       "10.60     7\n",
       "9.29      6\n",
       "8.40      6\n",
       "8.50      6\n",
       "6.67      5\n",
       "7.33      5\n",
       "8.33      5\n",
       "5.00      5\n",
       "9.60      5\n",
       "8.29      5\n",
       "         ..\n",
       "7.78      1\n",
       "8.23      1\n",
       "6.27      1\n",
       "7.15      1\n",
       "4.50      1\n",
       "8.86      1\n",
       "5.85      1\n",
       "8.64      1\n",
       "11.08     1\n",
       "7.27      1\n",
       "4.46      1\n",
       "9.83      1\n",
       "9.53      1\n",
       "9.58      1\n",
       "9.64      1\n",
       "4.33      1\n",
       "4.15      1\n",
       "5.60      1\n",
       "7.93      1\n",
       "8.45      1\n",
       "5.44      1\n",
       "4.43      1\n",
       "3.43      1\n",
       "5.89      1\n",
       "4.12      1\n",
       "10.88     1\n",
       "7.56      1\n",
       "9.87      1\n",
       "9.77      1\n",
       "2.78      1\n",
       "Name: Critic_Ratings, dtype: int64"
      ]
     },
     "execution_count": 13,
     "metadata": {},
     "output_type": "execute_result"
    }
   ],
   "source": [
    "critic_ratings['Critic_Ratings'].value_counts()"
   ]
  },
  {
   "cell_type": "code",
   "execution_count": 14,
   "metadata": {
    "collapsed": false
   },
   "outputs": [
    {
     "data": {
      "text/plain": [
       "812"
      ]
     },
     "execution_count": 14,
     "metadata": {},
     "output_type": "execute_result"
    }
   ],
   "source": [
    "len(critic_ratings)"
   ]
  },
  {
   "cell_type": "code",
   "execution_count": 15,
   "metadata": {
    "collapsed": false
   },
   "outputs": [
    {
     "data": {
      "text/plain": [
       "13.00    1900\n",
       "12.00     857\n",
       "1.00      783\n",
       "9.00      684\n",
       "10.00     653\n",
       "11.00     543\n",
       "7.00      373\n",
       "8.00      351\n",
       "6.00      246\n",
       "5.00      193\n",
       "9.50      176\n",
       "12.50     171\n",
       "11.50     159\n",
       "10.50     145\n",
       "3.00      100\n",
       "4.00      100\n",
       "8.50       89\n",
       "2.00       87\n",
       "6.50       84\n",
       "11.33      72\n",
       "11.67      61\n",
       "10.33      60\n",
       "7.50       58\n",
       "12.67      53\n",
       "8.67       53\n",
       "10.67      47\n",
       "5.50       46\n",
       "12.33      46\n",
       "9.67       46\n",
       "9.33       45\n",
       "         ... \n",
       "9.40        1\n",
       "11.33       1\n",
       "7.82        1\n",
       "9.45        1\n",
       "10.61       1\n",
       "10.53       1\n",
       "10.79       1\n",
       "9.47        1\n",
       "11.38       1\n",
       "10.72       1\n",
       "6.47        1\n",
       "9.05        1\n",
       "9.18        1\n",
       "12.03       1\n",
       "7.48        1\n",
       "11.08       1\n",
       "8.40        1\n",
       "9.68        1\n",
       "9.89        1\n",
       "10.86       1\n",
       "12.86       1\n",
       "7.76        1\n",
       "10.45       1\n",
       "9.24        1\n",
       "9.32        1\n",
       "11.26       1\n",
       "11.16       1\n",
       "8.99        1\n",
       "10.55       1\n",
       "9.68        1\n",
       "Name: Yahoo_Ratings, dtype: int64"
      ]
     },
     "execution_count": 15,
     "metadata": {},
     "output_type": "execute_result"
    }
   ],
   "source": [
    "yahoo_ratings['Yahoo_Ratings'].value_counts()"
   ]
  },
  {
   "cell_type": "code",
   "execution_count": 16,
   "metadata": {
    "collapsed": false
   },
   "outputs": [
    {
     "data": {
      "text/plain": [
       "11915"
      ]
     },
     "execution_count": 16,
     "metadata": {},
     "output_type": "execute_result"
    }
   ],
   "source": [
    "len(yahoo_ratings)"
   ]
  },
  {
   "cell_type": "code",
   "execution_count": 17,
   "metadata": {
    "collapsed": false
   },
   "outputs": [
    {
     "data": {
      "text/plain": [
       "8.00     241\n",
       "5.00     167\n",
       "2.00     107\n",
       "11.00     89\n",
       "9.00      45\n",
       "7.00      27\n",
       "10.00     21\n",
       "4.00      15\n",
       "6.00      14\n",
       "0.00      14\n",
       "1.00       2\n",
       "3.00       1\n",
       "Name: MovieMom_Ratings, dtype: int64"
      ]
     },
     "execution_count": 17,
     "metadata": {},
     "output_type": "execute_result"
    }
   ],
   "source": [
    "moviemom_ratings['MovieMom_Ratings'].value_counts()"
   ]
  },
  {
   "cell_type": "code",
   "execution_count": 18,
   "metadata": {
    "collapsed": false
   },
   "outputs": [
    {
     "data": {
      "text/plain": [
       "743"
      ]
     },
     "execution_count": 18,
     "metadata": {},
     "output_type": "execute_result"
    }
   ],
   "source": [
    "len(moviemom_ratings)"
   ]
  },
  {
   "cell_type": "markdown",
   "metadata": {},
   "source": [
    "So there are:\n",
    "- 812 Critic Ratings\n",
    "- 11,915 Yahoo Ratings\n",
    "- 743 Movie Mom Ratings\n",
    "\n",
    "It also looks like Yahoo raters are more likely to give out a perfect rating (13/13) compared to critics and Movie Mom.\n",
    "\n",
    "But this accounts for multiple ratings for each movie. Because I want to compare the ratings from the three forums for genre (for now, maybe I can go into movies if given enough data), I need to find average rating per genre from each forum."
   ]
  },
  {
   "cell_type": "code",
   "execution_count": 19,
   "metadata": {
    "collapsed": false
   },
   "outputs": [
    {
     "data": {
      "text/html": [
       "<div>\n",
       "<table border=\"1\" class=\"dataframe\">\n",
       "  <thead>\n",
       "    <tr style=\"text-align: right;\">\n",
       "      <th></th>\n",
       "      <th>Movie ID</th>\n",
       "      <th>Title</th>\n",
       "      <th>Genres</th>\n",
       "      <th>Critic_Ratings</th>\n",
       "    </tr>\n",
       "  </thead>\n",
       "  <tbody>\n",
       "    <tr>\n",
       "      <th>61</th>\n",
       "      <td>1800018548</td>\n",
       "      <td>10 Things I Hate About You (1999)</td>\n",
       "      <td>Comedy</td>\n",
       "      <td>7.40</td>\n",
       "    </tr>\n",
       "    <tr>\n",
       "      <th>65</th>\n",
       "      <td>1800018600</td>\n",
       "      <td>A Perfect Murder (1998)</td>\n",
       "      <td>Thriller</td>\n",
       "      <td>6.91</td>\n",
       "    </tr>\n",
       "    <tr>\n",
       "      <th>68</th>\n",
       "      <td>1800018623</td>\n",
       "      <td>American Beauty (1999)</td>\n",
       "      <td>Comedy|Drama</td>\n",
       "      <td>10.78</td>\n",
       "    </tr>\n",
       "    <tr>\n",
       "      <th>69</th>\n",
       "      <td>1800018632</td>\n",
       "      <td>American History X (1998)</td>\n",
       "      <td>Drama</td>\n",
       "      <td>8.73</td>\n",
       "    </tr>\n",
       "    <tr>\n",
       "      <th>70</th>\n",
       "      <td>1800018639</td>\n",
       "      <td>American Pie (1999)</td>\n",
       "      <td>Comedy</td>\n",
       "      <td>8.50</td>\n",
       "    </tr>\n",
       "  </tbody>\n",
       "</table>\n",
       "</div>"
      ],
      "text/plain": [
       "      Movie ID                              Title        Genres  \\\n",
       "61  1800018548  10 Things I Hate About You (1999)        Comedy   \n",
       "65  1800018600            A Perfect Murder (1998)      Thriller   \n",
       "68  1800018623             American Beauty (1999)  Comedy|Drama   \n",
       "69  1800018632          American History X (1998)         Drama   \n",
       "70  1800018639                American Pie (1999)        Comedy   \n",
       "\n",
       "    Critic_Ratings  \n",
       "61            7.40  \n",
       "65            6.91  \n",
       "68           10.78  \n",
       "69            8.73  \n",
       "70            8.50  "
      ]
     },
     "execution_count": 19,
     "metadata": {},
     "output_type": "execute_result"
    }
   ],
   "source": [
    "critic_ratings.head()"
   ]
  },
  {
   "cell_type": "code",
   "execution_count": 20,
   "metadata": {
    "collapsed": false
   },
   "outputs": [
    {
     "data": {
      "text/plain": [
       "Genres\n",
       "Special Interest          10.20\n",
       "Western                    9.77\n",
       "Art/Foreign                8.94\n",
       "Documentary                8.83\n",
       "Musical/Performing Arts    8.69\n",
       "Drama                      8.57\n",
       "\\N                         8.47\n",
       "Kids/Family                8.41\n",
       "Science Fiction/Fantasy    8.09\n",
       "Animation                  8.03\n",
       "Crime/Gangster             7.93\n",
       "Action/Adventure           7.79\n",
       "Comedy                     7.77\n",
       "Thriller                   7.76\n",
       "Romance                    7.46\n",
       "Suspense/Horror            7.00\n",
       "Reality                    5.90\n",
       "Name: Rating, dtype: float64"
      ]
     },
     "execution_count": 20,
     "metadata": {},
     "output_type": "execute_result"
    }
   ],
   "source": [
    "#Finding the average CRITIC ratings per genre.\n",
    "# 1) Find the critic rating for each movie identified by genre (need to split those with \"|\")\n",
    "# 2) Groupby the genre\n",
    "# 3) Find mean ratings for each genre\n",
    "\n",
    "a = critic_ratings.Genres.str.split('|').apply(pd.Series,1).stack()\n",
    "a.index = a.index.droplevel(-1)\n",
    "df_critic_genres = a.to_frame()\n",
    "b = pd.concat([df_critic_genres, critic_ratings['Critic_Ratings']], axis=1)\n",
    "b.columns = ['Genres', 'Rating']\n",
    "c = b.groupby('Genres')\n",
    "genre_criticratings = c['Rating'].mean()\n",
    "genre_criticratings.sort_values(ascending=False)\n"
   ]
  },
  {
   "cell_type": "code",
   "execution_count": 226,
   "metadata": {
    "collapsed": true
   },
   "outputs": [],
   "source": [
    "?genre_criticratings"
   ]
  },
  {
   "cell_type": "code",
   "execution_count": 21,
   "metadata": {
    "collapsed": false
   },
   "outputs": [
    {
     "data": {
      "text/plain": [
       "Genre\n",
       "Miscellaneous             11.82\n",
       "Adult Audience            11.50\n",
       "Art/Foreign                9.78\n",
       "Western                    9.68\n",
       "Musical/Performing Arts    9.61\n",
       "Drama                      9.59\n",
       "Crime/Gangster             9.44\n",
       "Romance                    9.37\n",
       "Kids/Family                9.37\n",
       "Comedy                     9.31\n",
       "Science Fiction/Fantasy    9.27\n",
       "Action/Adventure           9.21\n",
       "\\N                         9.19\n",
       "Thriller                   9.05\n",
       "Documentary                9.02\n",
       "Animation                  8.85\n",
       "Suspense/Horror            8.46\n",
       "Special Interest           8.44\n",
       "Reality                    5.71\n",
       "Name: Rating, dtype: float64"
      ]
     },
     "execution_count": 21,
     "metadata": {},
     "output_type": "execute_result"
    }
   ],
   "source": [
    "#Finding the average YAHOO ratings per genre. Same process as above\n",
    "\n",
    "x = yahoo_ratings.Genres.str.split('|').apply(pd.Series,1).stack()\n",
    "x.index = x.index.droplevel(-1)\n",
    "df_yahoo_genres = x.to_frame()\n",
    "y = pd.concat([df_yahoo_genres, yahoo_ratings['Yahoo_Ratings']], axis=1)\n",
    "y.columns = ['Genre', 'Rating']\n",
    "z = y.groupby('Genre')\n",
    "genre_yahooratings = z['Rating'].mean()\n",
    "genre_yahooratings.sort_values(ascending=False)"
   ]
  },
  {
   "cell_type": "code",
   "execution_count": 22,
   "metadata": {
    "collapsed": false
   },
   "outputs": [
    {
     "data": {
      "text/plain": [
       "Genre\n",
       "Special Interest          11.00\n",
       "Western                    8.17\n",
       "Musical/Performing Arts    7.97\n",
       "Art/Foreign                7.73\n",
       "Documentary                7.50\n",
       "Drama                      7.16\n",
       "Kids/Family                7.12\n",
       "\\N                         7.11\n",
       "Science Fiction/Fantasy    6.54\n",
       "Animation                  6.29\n",
       "Action/Adventure           6.11\n",
       "Comedy                     6.02\n",
       "Crime/Gangster             5.92\n",
       "Romance                    5.83\n",
       "Thriller                   5.51\n",
       "Suspense/Horror            4.48\n",
       "Reality                    2.00\n",
       "Name: Rating, dtype: float64"
      ]
     },
     "execution_count": 22,
     "metadata": {},
     "output_type": "execute_result"
    }
   ],
   "source": [
    "#Finding the average MOVIE MOM ratings per genre. Same process as above\n",
    "\n",
    "d = moviemom_ratings.Genres.str.split('|').apply(pd.Series,1).stack()\n",
    "d.index = d.index.droplevel(-1)\n",
    "df_moviemom_genres = d.to_frame()\n",
    "e = pd.concat([df_moviemom_genres, moviemom_ratings['MovieMom_Ratings']], axis=1)\n",
    "e.columns = ['Genre', 'Rating']\n",
    "f = e.groupby('Genre')\n",
    "genre_moviemomratings = f['Rating'].mean()\n",
    "genre_moviemomratings.sort_values(ascending=False)"
   ]
  },
  {
   "cell_type": "code",
   "execution_count": 110,
   "metadata": {
    "collapsed": false
   },
   "outputs": [
    {
     "data": {
      "text/html": [
       "<div>\n",
       "<table border=\"1\" class=\"dataframe\">\n",
       "  <thead>\n",
       "    <tr style=\"text-align: right;\">\n",
       "      <th></th>\n",
       "      <th>Critics</th>\n",
       "      <th>Yahoo</th>\n",
       "      <th>MovieMom</th>\n",
       "    </tr>\n",
       "  </thead>\n",
       "  <tbody>\n",
       "    <tr>\n",
       "      <th>Action/Adventure</th>\n",
       "      <td>7.79</td>\n",
       "      <td>9.21</td>\n",
       "      <td>6.11</td>\n",
       "    </tr>\n",
       "    <tr>\n",
       "      <th>Adult Audience</th>\n",
       "      <td>nan</td>\n",
       "      <td>11.50</td>\n",
       "      <td>nan</td>\n",
       "    </tr>\n",
       "    <tr>\n",
       "      <th>Animation</th>\n",
       "      <td>8.03</td>\n",
       "      <td>8.85</td>\n",
       "      <td>6.29</td>\n",
       "    </tr>\n",
       "    <tr>\n",
       "      <th>Art/Foreign</th>\n",
       "      <td>8.94</td>\n",
       "      <td>9.78</td>\n",
       "      <td>7.73</td>\n",
       "    </tr>\n",
       "    <tr>\n",
       "      <th>Comedy</th>\n",
       "      <td>7.77</td>\n",
       "      <td>9.31</td>\n",
       "      <td>6.02</td>\n",
       "    </tr>\n",
       "    <tr>\n",
       "      <th>Crime/Gangster</th>\n",
       "      <td>7.93</td>\n",
       "      <td>9.44</td>\n",
       "      <td>5.92</td>\n",
       "    </tr>\n",
       "    <tr>\n",
       "      <th>Documentary</th>\n",
       "      <td>8.83</td>\n",
       "      <td>9.02</td>\n",
       "      <td>7.50</td>\n",
       "    </tr>\n",
       "    <tr>\n",
       "      <th>Drama</th>\n",
       "      <td>8.57</td>\n",
       "      <td>9.59</td>\n",
       "      <td>7.16</td>\n",
       "    </tr>\n",
       "    <tr>\n",
       "      <th>Kids/Family</th>\n",
       "      <td>8.41</td>\n",
       "      <td>9.37</td>\n",
       "      <td>7.12</td>\n",
       "    </tr>\n",
       "    <tr>\n",
       "      <th>Miscellaneous</th>\n",
       "      <td>nan</td>\n",
       "      <td>11.82</td>\n",
       "      <td>nan</td>\n",
       "    </tr>\n",
       "    <tr>\n",
       "      <th>Musical/Performing Arts</th>\n",
       "      <td>8.69</td>\n",
       "      <td>9.61</td>\n",
       "      <td>7.97</td>\n",
       "    </tr>\n",
       "    <tr>\n",
       "      <th>Reality</th>\n",
       "      <td>5.90</td>\n",
       "      <td>5.71</td>\n",
       "      <td>2.00</td>\n",
       "    </tr>\n",
       "    <tr>\n",
       "      <th>Romance</th>\n",
       "      <td>7.46</td>\n",
       "      <td>9.37</td>\n",
       "      <td>5.83</td>\n",
       "    </tr>\n",
       "    <tr>\n",
       "      <th>Science Fiction/Fantasy</th>\n",
       "      <td>8.09</td>\n",
       "      <td>9.27</td>\n",
       "      <td>6.54</td>\n",
       "    </tr>\n",
       "    <tr>\n",
       "      <th>Special Interest</th>\n",
       "      <td>10.20</td>\n",
       "      <td>8.44</td>\n",
       "      <td>11.00</td>\n",
       "    </tr>\n",
       "    <tr>\n",
       "      <th>Suspense/Horror</th>\n",
       "      <td>7.00</td>\n",
       "      <td>8.46</td>\n",
       "      <td>4.48</td>\n",
       "    </tr>\n",
       "    <tr>\n",
       "      <th>Thriller</th>\n",
       "      <td>7.76</td>\n",
       "      <td>9.05</td>\n",
       "      <td>5.51</td>\n",
       "    </tr>\n",
       "    <tr>\n",
       "      <th>Western</th>\n",
       "      <td>9.77</td>\n",
       "      <td>9.68</td>\n",
       "      <td>8.17</td>\n",
       "    </tr>\n",
       "    <tr>\n",
       "      <th>\\N</th>\n",
       "      <td>8.47</td>\n",
       "      <td>9.19</td>\n",
       "      <td>7.11</td>\n",
       "    </tr>\n",
       "  </tbody>\n",
       "</table>\n",
       "</div>"
      ],
      "text/plain": [
       "                         Critics  Yahoo  MovieMom\n",
       "Action/Adventure            7.79   9.21      6.11\n",
       "Adult Audience               nan  11.50       nan\n",
       "Animation                   8.03   8.85      6.29\n",
       "Art/Foreign                 8.94   9.78      7.73\n",
       "Comedy                      7.77   9.31      6.02\n",
       "Crime/Gangster              7.93   9.44      5.92\n",
       "Documentary                 8.83   9.02      7.50\n",
       "Drama                       8.57   9.59      7.16\n",
       "Kids/Family                 8.41   9.37      7.12\n",
       "Miscellaneous                nan  11.82       nan\n",
       "Musical/Performing Arts     8.69   9.61      7.97\n",
       "Reality                     5.90   5.71      2.00\n",
       "Romance                     7.46   9.37      5.83\n",
       "Science Fiction/Fantasy     8.09   9.27      6.54\n",
       "Special Interest           10.20   8.44     11.00\n",
       "Suspense/Horror             7.00   8.46      4.48\n",
       "Thriller                    7.76   9.05      5.51\n",
       "Western                     9.77   9.68      8.17\n",
       "\\N                          8.47   9.19      7.11"
      ]
     },
     "execution_count": 110,
     "metadata": {},
     "output_type": "execute_result"
    }
   ],
   "source": [
    "genre_ratings = pd.concat([genre_criticratings, genre_yahooratings, genre_moviemomratings], axis=1)\n",
    "genre_ratings.columns = ['Critics', 'Yahoo', 'MovieMom']\n",
    "genre_ratings"
   ]
  },
  {
   "cell_type": "code",
   "execution_count": 111,
   "metadata": {
    "collapsed": false
   },
   "outputs": [
    {
     "data": {
      "text/plain": [
       "<matplotlib.legend.Legend at 0x1270a3358>"
      ]
     },
     "execution_count": 111,
     "metadata": {},
     "output_type": "execute_result"
    },
    {
     "data": {
      "image/png": "[encoded data removed]",
      "text/plain": [
       "<matplotlib.figure.Figure at 0x1270a32e8>"
      ]
     },
     "metadata": {},
     "output_type": "display_data"
    }
   ],
   "source": [
    "genre_ratings_plot = genre_ratings.plot(kind='bar', title = 'Average Genre Ratings by Forums', figsize=(25,10), legend=True, fontsize=20, colormap='Dark2')\n",
    "genre_ratings_plot.set_xlabel('Genre', fontsize=30)\n",
    "genre_ratings_plot.set_ylabel('Average Ratings', fontsize=30)\n",
    "genre_ratings_plot.legend(prop={'size':15})\n",
    "\n",
    "\n",
    "#See why Movie mom ratings and see why much lower"
   ]
  },
  {
   "cell_type": "markdown",
   "metadata": {},
   "source": [
    "In analyzing this figure:\n",
    "\n",
    "By Genre ratings:\n",
    "1. Movie Mom raters generally rate lower than raters from the other forums, with the exception of the Special Interest Genre\n",
    "2. Yahoo raters generally rate higher than raters from the other forums with a few notable genre exceptions such as special Interest, Reality, and Western.\n",
    "\n",
    "By Forums:\n",
    "1. Highest Average Rating Genre:\n",
    "    - Critics: Special Interest\n",
    "    - Yahoo: Miscellaneous\n",
    "         - But since there is no data from the other forums for this genre, if we compare based on genres where all 3 forums rated, then the highest is: arts/foreign\n",
    "    - Movie Mom: Special Interest\n",
    "2. Lowest Average Rating Genre:\n",
    "    - Critics: Reality\n",
    "    - Yahoo: Reality\n",
    "    - Movie Mom: Reality\n",
    "\n",
    "Conclusion: No one likes Reality. JK. But it seems that movies from reality genre are less liked by people than other genre movies. This would make sense since Reality is a more popular genre for TV shows and not movies. Most popular genres are miscellaneous and special interest, which are extremely broad categories so this also makes sense given the larger range and diversity of movies included in these genres."
   ]
  },
  {
   "cell_type": "markdown",
   "metadata": {},
   "source": [
    "1B: Ratings by Year\n",
    "\n",
    "What years produced the best rated movies/genres?\n",
    "data visualization: use scatter plot"
   ]
  },
  {
   "cell_type": "code",
   "execution_count": 5,
   "metadata": {
    "collapsed": false
   },
   "outputs": [
    {
     "data": {
      "text/html": [
       "<div>\n",
       "<table border=\"1\" class=\"dataframe\">\n",
       "  <thead>\n",
       "    <tr style=\"text-align: right;\">\n",
       "      <th></th>\n",
       "      <th>Title</th>\n",
       "      <th>Year</th>\n",
       "      <th>Genre</th>\n",
       "      <th>Critic Rating</th>\n",
       "      <th>Movie Mom Rating</th>\n",
       "      <th>Yahoo Rating</th>\n",
       "    </tr>\n",
       "  </thead>\n",
       "  <tbody>\n",
       "    <tr>\n",
       "      <th>0</th>\n",
       "      <td>The 1985 Admiral's Cup (1997)</td>\n",
       "      <td>NaN</td>\n",
       "      <td>Special Interest</td>\n",
       "      <td>\\N</td>\n",
       "      <td>\\N</td>\n",
       "      <td>\\N</td>\n",
       "    </tr>\n",
       "    <tr>\n",
       "      <th>1</th>\n",
       "      <td>984 - Prisoner of the Future (1984)</td>\n",
       "      <td>NaN</td>\n",
       "      <td>Science Fiction/Fantasy</td>\n",
       "      <td>\\N</td>\n",
       "      <td>\\N</td>\n",
       "      <td>\\N</td>\n",
       "    </tr>\n",
       "    <tr>\n",
       "      <th>2</th>\n",
       "      <td>A's All-Star Almanac (1987)</td>\n",
       "      <td>NaN</td>\n",
       "      <td>Special Interest</td>\n",
       "      <td>\\N</td>\n",
       "      <td>\\N</td>\n",
       "      <td>7</td>\n",
       "    </tr>\n",
       "    <tr>\n",
       "      <th>3</th>\n",
       "      <td>The Adventures of Annie Oakley (1953)</td>\n",
       "      <td>NaN</td>\n",
       "      <td>Western</td>\n",
       "      <td>\\N</td>\n",
       "      <td>\\N</td>\n",
       "      <td>6</td>\n",
       "    </tr>\n",
       "    <tr>\n",
       "      <th>4</th>\n",
       "      <td>The Adventures of Black Beauty 1 (1972)</td>\n",
       "      <td>NaN</td>\n",
       "      <td>Kids/Family</td>\n",
       "      <td>\\N</td>\n",
       "      <td>\\N</td>\n",
       "      <td>\\N</td>\n",
       "    </tr>\n",
       "  </tbody>\n",
       "</table>\n",
       "</div>"
      ],
      "text/plain": [
       "                                     Title Year                    Genre  \\\n",
       "0            The 1985 Admiral's Cup (1997)  NaN         Special Interest   \n",
       "1      984 - Prisoner of the Future (1984)  NaN  Science Fiction/Fantasy   \n",
       "2              A's All-Star Almanac (1987)  NaN         Special Interest   \n",
       "3    The Adventures of Annie Oakley (1953)  NaN                  Western   \n",
       "4  The Adventures of Black Beauty 1 (1972)  NaN              Kids/Family   \n",
       "\n",
       "  Critic Rating Movie Mom Rating Yahoo Rating  \n",
       "0            \\N               \\N           \\N  \n",
       "1            \\N               \\N           \\N  \n",
       "2            \\N               \\N            7  \n",
       "3            \\N               \\N            6  \n",
       "4            \\N               \\N           \\N  "
      ]
     },
     "execution_count": 5,
     "metadata": {},
     "output_type": "execute_result"
    }
   ],
   "source": [
    "yeardf = data[[1, 6, 10, 18, 24, 32]]\n",
    "yeardf.columns = ['Title', 'Year', 'Genre', 'Critic Rating', 'Movie Mom Rating', 'Yahoo Rating']\n",
    "yeardf.head()"
   ]
  },
  {
   "cell_type": "code",
   "execution_count": 6,
   "metadata": {
    "collapsed": false
   },
   "outputs": [
    {
     "name": "stderr",
     "output_type": "stream",
     "text": [
      "/Users/zhichaoyang/anaconda/lib/python3.5/site-packages/ipykernel/__main__.py:10: SettingWithCopyWarning: \n",
      "A value is trying to be set on a copy of a slice from a DataFrame.\n",
      "Try using .loc[row_indexer,col_indexer] = value instead\n",
      "\n",
      "See the caveats in the documentation: http://pandas.pydata.org/pandas-docs/stable/indexing.html#indexing-view-versus-copy\n"
     ]
    }
   ],
   "source": [
    "#Release year of movie is in the title so we're going to transport the data into the column 'Year'\n",
    "\n",
    "def year(s):\n",
    "    if \"(\" and \")\" in s:\n",
    "        year = s[s.index(\"(\")+1:s.index(\")\")]\n",
    "    else:\n",
    "        year = 5\n",
    "    return year\n",
    "\n",
    "yeardf[\"Year\"] = yeardf['Title'].apply(year)"
   ]
  },
  {
   "cell_type": "code",
   "execution_count": 7,
   "metadata": {
    "collapsed": false
   },
   "outputs": [
    {
     "data": {
      "text/plain": [
       "[235]"
      ]
     },
     "execution_count": 7,
     "metadata": {},
     "output_type": "execute_result"
    }
   ],
   "source": [
    "# Data Cleaning - release year\n",
    "yeardf[yeardf['Year'] == \"Documentary\"].index.tolist()\n",
    "yeardf[yeardf['Year'] == \"documentary\"].index.tolist()"
   ]
  },
  {
   "cell_type": "code",
   "execution_count": 8,
   "metadata": {
    "collapsed": false
   },
   "outputs": [
    {
     "data": {
      "text/plain": [
       "'The Mummy (documentary) (1999)'"
      ]
     },
     "execution_count": 8,
     "metadata": {},
     "output_type": "execute_result"
    }
   ],
   "source": [
    "# Data Cleaning - release year\n",
    "yeardf.Title[98477]\n",
    "yeardf.Title[235]"
   ]
  },
  {
   "cell_type": "code",
   "execution_count": 9,
   "metadata": {
    "collapsed": false
   },
   "outputs": [
    {
     "name": "stderr",
     "output_type": "stream",
     "text": [
      "/Users/zhichaoyang/anaconda/lib/python3.5/site-packages/IPython/core/interactiveshell.py:2885: SettingWithCopyWarning: \n",
      "A value is trying to be set on a copy of a slice from a DataFrame\n",
      "\n",
      "See the caveats in the documentation: http://pandas.pydata.org/pandas-docs/stable/indexing.html#indexing-view-versus-copy\n",
      "  exec(code_obj, self.user_global_ns, self.user_ns)\n"
     ]
    }
   ],
   "source": [
    "# Data Cleaning - release year\n",
    "yeardf.Year[98477] = 2001\n",
    "yeardf.Year[235] = 1999"
   ]
  },
  {
   "cell_type": "code",
   "execution_count": 10,
   "metadata": {
    "collapsed": false
   },
   "outputs": [
    {
     "name": "stderr",
     "output_type": "stream",
     "text": [
      "/Users/zhichaoyang/anaconda/lib/python3.5/site-packages/ipykernel/__main__.py:16: SettingWithCopyWarning: \n",
      "A value is trying to be set on a copy of a slice from a DataFrame.\n",
      "Try using .loc[row_indexer,col_indexer] = value instead\n",
      "\n",
      "See the caveats in the documentation: http://pandas.pydata.org/pandas-docs/stable/indexing.html#indexing-view-versus-copy\n"
     ]
    }
   ],
   "source": [
    "# Convert release year from str to int.\n",
    "def Int(s):\n",
    "    try: \n",
    "        int(s)\n",
    "        return True\n",
    "    except ValueError:\n",
    "        return False\n",
    "\n",
    "def r_year(val):\n",
    "    if Int(val) == True:\n",
    "        val = int(val)\n",
    "    else:\n",
    "        val = int(5)\n",
    "    return val\n",
    "\n",
    "yeardf['Year'] = yeardf['Year'].apply(r_year)"
   ]
  },
  {
   "cell_type": "code",
   "execution_count": 118,
   "metadata": {
    "collapsed": false
   },
   "outputs": [
    {
     "name": "stderr",
     "output_type": "stream",
     "text": [
      "/Users/joshuapark/anaconda/lib/python3.5/site-packages/ipykernel/__main__.py:10: SettingWithCopyWarning: \n",
      "A value is trying to be set on a copy of a slice from a DataFrame.\n",
      "Try using .loc[row_indexer,col_indexer] = value instead\n",
      "\n",
      "See the caveats in the documentation: http://pandas.pydata.org/pandas-docs/stable/indexing.html#indexing-view-versus-copy\n"
     ]
    }
   ],
   "source": [
    "#Clean title\n",
    "#Take out years from title since we have it in column 'Year'\n",
    "\n",
    "import re\n",
    "def title(s):\n",
    "    regex = re.compile('\\(.+?\\)')\n",
    "    output = regex.sub('', s)\n",
    "    return output\n",
    "\n",
    "yeardf[\"Title\"] = yeardf['Title'].apply(title)"
   ]
  },
  {
   "cell_type": "code",
   "execution_count": 119,
   "metadata": {
    "collapsed": false
   },
   "outputs": [
    {
     "data": {
      "text/html": [
       "<div>\n",
       "<table border=\"1\" class=\"dataframe\">\n",
       "  <thead>\n",
       "    <tr style=\"text-align: right;\">\n",
       "      <th></th>\n",
       "      <th>Title</th>\n",
       "      <th>Year</th>\n",
       "      <th>Genre</th>\n",
       "      <th>Critic Rating</th>\n",
       "      <th>Movie Mom Rating</th>\n",
       "      <th>Yahoo Rating</th>\n",
       "    </tr>\n",
       "  </thead>\n",
       "  <tbody>\n",
       "    <tr>\n",
       "      <th>0</th>\n",
       "      <td>The 1985 Admiral's Cup</td>\n",
       "      <td>1997</td>\n",
       "      <td>Special Interest</td>\n",
       "      <td>\\N</td>\n",
       "      <td>\\N</td>\n",
       "      <td>\\N</td>\n",
       "    </tr>\n",
       "    <tr>\n",
       "      <th>1</th>\n",
       "      <td>984 - Prisoner of the Future</td>\n",
       "      <td>1984</td>\n",
       "      <td>Science Fiction/Fantasy</td>\n",
       "      <td>\\N</td>\n",
       "      <td>\\N</td>\n",
       "      <td>\\N</td>\n",
       "    </tr>\n",
       "    <tr>\n",
       "      <th>2</th>\n",
       "      <td>A's All-Star Almanac</td>\n",
       "      <td>1987</td>\n",
       "      <td>Special Interest</td>\n",
       "      <td>\\N</td>\n",
       "      <td>\\N</td>\n",
       "      <td>7</td>\n",
       "    </tr>\n",
       "    <tr>\n",
       "      <th>3</th>\n",
       "      <td>The Adventures of Annie Oakley</td>\n",
       "      <td>1953</td>\n",
       "      <td>Western</td>\n",
       "      <td>\\N</td>\n",
       "      <td>\\N</td>\n",
       "      <td>6</td>\n",
       "    </tr>\n",
       "    <tr>\n",
       "      <th>4</th>\n",
       "      <td>The Adventures of Black Beauty 1</td>\n",
       "      <td>1972</td>\n",
       "      <td>Kids/Family</td>\n",
       "      <td>\\N</td>\n",
       "      <td>\\N</td>\n",
       "      <td>\\N</td>\n",
       "    </tr>\n",
       "  </tbody>\n",
       "</table>\n",
       "</div>"
      ],
      "text/plain": [
       "                               Title  Year                    Genre  \\\n",
       "0            The 1985 Admiral's Cup   1997         Special Interest   \n",
       "1      984 - Prisoner of the Future   1984  Science Fiction/Fantasy   \n",
       "2              A's All-Star Almanac   1987         Special Interest   \n",
       "3    The Adventures of Annie Oakley   1953                  Western   \n",
       "4  The Adventures of Black Beauty 1   1972              Kids/Family   \n",
       "\n",
       "  Critic Rating Movie Mom Rating Yahoo Rating  \n",
       "0            \\N               \\N           \\N  \n",
       "1            \\N               \\N           \\N  \n",
       "2            \\N               \\N            7  \n",
       "3            \\N               \\N            6  \n",
       "4            \\N               \\N           \\N  "
      ]
     },
     "execution_count": 119,
     "metadata": {},
     "output_type": "execute_result"
    }
   ],
   "source": [
    "yeardf.head()"
   ]
  },
  {
   "cell_type": "markdown",
   "metadata": {},
   "source": [
    "Data Exploration\n",
    "\n",
    "- How many movies from each year?"
   ]
  },
  {
   "cell_type": "code",
   "execution_count": 379,
   "metadata": {
    "collapsed": false
   },
   "outputs": [],
   "source": [
    "yeardf.groupby('Year')\n",
    "yearmovie = yeardf.Year.value_counts()"
   ]
  },
  {
   "cell_type": "code",
   "execution_count": 382,
   "metadata": {
    "collapsed": false
   },
   "outputs": [
    {
     "data": {
      "text/plain": [
       "<matplotlib.legend.Legend at 0x1ab57d470>"
      ]
     },
     "execution_count": 382,
     "metadata": {},
     "output_type": "execute_result"
    },
    {
     "data": {
      "image/png": "[encoded data removed]",
      "text/plain": [
       "<matplotlib.figure.Figure at 0x1ab574898>"
      ]
     },
     "metadata": {},
     "output_type": "display_data"
    }
   ],
   "source": [
    "#yearmovie = yeardf.Year.value_counts()\n",
    "yrplot = yearmovie.plot(kind='bar', title = 'Number of Movies by Year', figsize = (35,10), legend=True, fontsize=20)\n",
    "yrplot.set_xlabel('Year', fontsize=30)\n",
    "yrplot.set_ylabel('Number of Movies', fontsize=30)\n",
    "yrplot.legend(prop={'size': 20})"
   ]
  },
  {
   "cell_type": "markdown",
   "metadata": {},
   "source": [
    "Observations:\n",
    "1. There are 5,023 movies that do not have a release year documented. That's around 5% of the movies we have.\n",
    "2. Interestingly, there is one movie that has a release date of \"10.\" Need to look into this. See below.\n",
    "3. There is movie with the release date with 313987925 \n",
    "4. There are movies with the release dates 9225, 2025, 8022, 8041. I need to clean all of this. \n",
    "5. I will keep those that are older because there might be critic ratings that have been documented for these movies"
   ]
  },
  {
   "cell_type": "code",
   "execution_count": 121,
   "metadata": {
    "collapsed": false
   },
   "outputs": [
    {
     "data": {
      "text/plain": [
       "True"
      ]
     },
     "execution_count": 121,
     "metadata": {},
     "output_type": "execute_result"
    }
   ],
   "source": [
    "#Groupby year \n",
    "# Problem: There are some columns with 10 as the year, verify\n",
    "any(yeardf.Year == 10)"
   ]
  },
  {
   "cell_type": "code",
   "execution_count": 122,
   "metadata": {
    "collapsed": false
   },
   "outputs": [
    {
     "data": {
      "text/html": [
       "<div>\n",
       "<table border=\"1\" class=\"dataframe\">\n",
       "  <thead>\n",
       "    <tr style=\"text-align: right;\">\n",
       "      <th></th>\n",
       "      <th>Title</th>\n",
       "      <th>Year</th>\n",
       "      <th>Genre</th>\n",
       "      <th>Critic Rating</th>\n",
       "      <th>Movie Mom Rating</th>\n",
       "      <th>Yahoo Rating</th>\n",
       "    </tr>\n",
       "  </thead>\n",
       "  <tbody>\n",
       "    <tr>\n",
       "      <th>77018</th>\n",
       "      <td>Intimate Portrait - Jacqueline Bisset</td>\n",
       "      <td>10</td>\n",
       "      <td>\\N</td>\n",
       "      <td>\\N</td>\n",
       "      <td>\\N</td>\n",
       "      <td>\\N</td>\n",
       "    </tr>\n",
       "  </tbody>\n",
       "</table>\n",
       "</div>"
      ],
      "text/plain": [
       "                                        Title  Year Genre Critic Rating  \\\n",
       "77018  Intimate Portrait - Jacqueline Bisset     10    \\N            \\N   \n",
       "\n",
       "      Movie Mom Rating Yahoo Rating  \n",
       "77018               \\N           \\N  "
      ]
     },
     "execution_count": 122,
     "metadata": {},
     "output_type": "execute_result"
    }
   ],
   "source": [
    "#Find what the movie is\n",
    "yeardf.loc[yeardf.Year == 10]"
   ]
  },
  {
   "cell_type": "markdown",
   "metadata": {},
   "source": [
    "After doing some research, it seems this movie is a specific movie in a documentary series called Intimate Portrait. This particular portrait focuses on Jacqueline Bisset, a famous actress. However, no indication of what the '10' stands for. But the movie was released in 1998."
   ]
  },
  {
   "cell_type": "code",
   "execution_count": 123,
   "metadata": {
    "collapsed": false
   },
   "outputs": [
    {
     "name": "stderr",
     "output_type": "stream",
     "text": [
      "/Users/joshuapark/anaconda/lib/python3.5/site-packages/pandas/core/generic.py:3430: SettingWithCopyWarning: \n",
      "A value is trying to be set on a copy of a slice from a DataFrame\n",
      "\n",
      "See the caveats in the documentation: http://pandas.pydata.org/pandas-docs/stable/indexing.html#indexing-view-versus-copy\n",
      "  self._update_inplace(new_data)\n"
     ]
    }
   ],
   "source": [
    "yeardf.Year.replace([10], [1998], inplace=True)"
   ]
  },
  {
   "cell_type": "code",
   "execution_count": 124,
   "metadata": {
    "collapsed": false
   },
   "outputs": [
    {
     "data": {
      "text/plain": [
       "1998"
      ]
     },
     "execution_count": 124,
     "metadata": {},
     "output_type": "execute_result"
    }
   ],
   "source": [
    "yeardf.Year[77018]"
   ]
  },
  {
   "cell_type": "code",
   "execution_count": 125,
   "metadata": {
    "collapsed": false
   },
   "outputs": [
    {
     "data": {
      "text/plain": [
       "1999         5759\n",
       "2003         5149\n",
       "5            5023\n",
       "2002         4918\n",
       "1995         4512\n",
       "2000         4424\n",
       "1998         4355\n",
       "1992         4276\n",
       "1994         4243\n",
       "1997         4111\n",
       "1996         4024\n",
       "1993         3966\n",
       "1991         3936\n",
       "2001         3896\n",
       "1990         3303\n",
       "1987         3110\n",
       "1989         2901\n",
       "1988         2733\n",
       "1986         2409\n",
       "1985         1990\n",
       "1984         1515\n",
       "1983         1482\n",
       "1980         1097\n",
       "1982         1036\n",
       "1981          993\n",
       "1979          981\n",
       "1978          786\n",
       "1977          734\n",
       "1975          732\n",
       "1976          665\n",
       "             ... \n",
       "1925          125\n",
       "1928           94\n",
       "1927           90\n",
       "1920           78\n",
       "1916           68\n",
       "1924           59\n",
       "1921           58\n",
       "1915           53\n",
       "1917           40\n",
       "1922           40\n",
       "1923           37\n",
       "1914           37\n",
       "1918           35\n",
       "1919           33\n",
       "1909           10\n",
       "1913            9\n",
       "1912            9\n",
       "1900            7\n",
       "2005            5\n",
       "1911            4\n",
       "2006            2\n",
       "313987925       1\n",
       "1884            1\n",
       "1910            1\n",
       "1895            1\n",
       "8022            1\n",
       "2025            1\n",
       "1903            1\n",
       "9225            1\n",
       "8041            1\n",
       "Name: Year, dtype: int64"
      ]
     },
     "execution_count": 125,
     "metadata": {},
     "output_type": "execute_result"
    }
   ],
   "source": [
    "yeardf.Year.value_counts()"
   ]
  },
  {
   "cell_type": "code",
   "execution_count": 126,
   "metadata": {
    "collapsed": false
   },
   "outputs": [
    {
     "data": {
      "text/html": [
       "<div>\n",
       "<table border=\"1\" class=\"dataframe\">\n",
       "  <thead>\n",
       "    <tr style=\"text-align: right;\">\n",
       "      <th></th>\n",
       "      <th>Title</th>\n",
       "      <th>Year</th>\n",
       "      <th>Genre</th>\n",
       "      <th>Critic Rating</th>\n",
       "      <th>Movie Mom Rating</th>\n",
       "      <th>Yahoo Rating</th>\n",
       "    </tr>\n",
       "  </thead>\n",
       "  <tbody>\n",
       "    <tr>\n",
       "      <th>92905</th>\n",
       "      <td>Madeline at the Eiffel Tower</td>\n",
       "      <td>313987925</td>\n",
       "      <td>\\N</td>\n",
       "      <td>\\N</td>\n",
       "      <td>\\N</td>\n",
       "      <td>\\N</td>\n",
       "    </tr>\n",
       "  </tbody>\n",
       "</table>\n",
       "</div>"
      ],
      "text/plain": [
       "                              Title       Year Genre Critic Rating  \\\n",
       "92905  Madeline at the Eiffel Tower  313987925    \\N            \\N   \n",
       "\n",
       "      Movie Mom Rating Yahoo Rating  \n",
       "92905               \\N           \\N  "
      ]
     },
     "execution_count": 126,
     "metadata": {},
     "output_type": "execute_result"
    }
   ],
   "source": [
    "#Cleaning up the data with the 313987925 movie\n",
    "yeardf.loc[yeardf.Year == 313987925]"
   ]
  },
  {
   "cell_type": "code",
   "execution_count": 127,
   "metadata": {
    "collapsed": false
   },
   "outputs": [],
   "source": [
    "newdf = yeardf.drop(yeardf.index[92905])"
   ]
  },
  {
   "cell_type": "code",
   "execution_count": 128,
   "metadata": {
    "collapsed": false
   },
   "outputs": [
    {
     "data": {
      "text/plain": [
       "1999    5759\n",
       "2003    5149\n",
       "5       5023\n",
       "2002    4918\n",
       "1995    4512\n",
       "2000    4424\n",
       "1998    4355\n",
       "1992    4276\n",
       "1994    4243\n",
       "1997    4111\n",
       "1996    4024\n",
       "1993    3966\n",
       "1991    3936\n",
       "2001    3896\n",
       "1990    3303\n",
       "1987    3110\n",
       "1989    2901\n",
       "1988    2733\n",
       "1986    2409\n",
       "1985    1990\n",
       "1984    1515\n",
       "1983    1482\n",
       "1980    1097\n",
       "1982    1036\n",
       "1981     993\n",
       "1979     981\n",
       "1978     786\n",
       "1977     734\n",
       "1975     732\n",
       "1976     665\n",
       "        ... \n",
       "1929     127\n",
       "1925     125\n",
       "1928      94\n",
       "1927      90\n",
       "1920      78\n",
       "1916      68\n",
       "1924      59\n",
       "1921      58\n",
       "1915      53\n",
       "1917      40\n",
       "1922      40\n",
       "1923      37\n",
       "1914      37\n",
       "1918      35\n",
       "1919      33\n",
       "1909      10\n",
       "1913       9\n",
       "1912       9\n",
       "1900       7\n",
       "2005       5\n",
       "1911       4\n",
       "2006       2\n",
       "8041       1\n",
       "2025       1\n",
       "1910       1\n",
       "1884       1\n",
       "1895       1\n",
       "8022       1\n",
       "9225       1\n",
       "1903       1\n",
       "Name: Year, dtype: int64"
      ]
     },
     "execution_count": 128,
     "metadata": {},
     "output_type": "execute_result"
    }
   ],
   "source": [
    "newdf.Year.value_counts()"
   ]
  },
  {
   "cell_type": "code",
   "execution_count": 129,
   "metadata": {
    "collapsed": false
   },
   "outputs": [
    {
     "data": {
      "text/html": [
       "<div>\n",
       "<table border=\"1\" class=\"dataframe\">\n",
       "  <thead>\n",
       "    <tr style=\"text-align: right;\">\n",
       "      <th></th>\n",
       "      <th>Title</th>\n",
       "      <th>Year</th>\n",
       "      <th>Genre</th>\n",
       "      <th>Critic Rating</th>\n",
       "      <th>Movie Mom Rating</th>\n",
       "      <th>Yahoo Rating</th>\n",
       "    </tr>\n",
       "  </thead>\n",
       "  <tbody>\n",
       "    <tr>\n",
       "      <th>103638</th>\n",
       "      <td>Legend Of The White Crane</td>\n",
       "      <td>2025</td>\n",
       "      <td>\\N</td>\n",
       "      <td>\\N</td>\n",
       "      <td>\\N</td>\n",
       "      <td>\\N</td>\n",
       "    </tr>\n",
       "  </tbody>\n",
       "</table>\n",
       "</div>"
      ],
      "text/plain": [
       "                            Title  Year Genre Critic Rating Movie Mom Rating  \\\n",
       "103638  Legend Of The White Crane  2025    \\N            \\N               \\N   \n",
       "\n",
       "       Yahoo Rating  \n",
       "103638           \\N  "
      ]
     },
     "execution_count": 129,
     "metadata": {},
     "output_type": "execute_result"
    }
   ],
   "source": [
    "newdf.loc[yeardf.Year == 2025]"
   ]
  },
  {
   "cell_type": "code",
   "execution_count": 130,
   "metadata": {
    "collapsed": false
   },
   "outputs": [],
   "source": [
    "newdf.Year.replace([2025], [2003], inplace=True)"
   ]
  },
  {
   "cell_type": "code",
   "execution_count": 131,
   "metadata": {
    "collapsed": false
   },
   "outputs": [
    {
     "data": {
      "text/plain": [
       "2003"
      ]
     },
     "execution_count": 131,
     "metadata": {},
     "output_type": "execute_result"
    }
   ],
   "source": [
    "newdf.Year[103638]"
   ]
  },
  {
   "cell_type": "code",
   "execution_count": 132,
   "metadata": {
    "collapsed": false
   },
   "outputs": [
    {
     "data": {
      "text/plain": [
       "1999    5759\n",
       "2003    5150\n",
       "5       5023\n",
       "2002    4918\n",
       "1995    4512\n",
       "2000    4424\n",
       "1998    4355\n",
       "1992    4276\n",
       "1994    4243\n",
       "1997    4111\n",
       "1996    4024\n",
       "1993    3966\n",
       "1991    3936\n",
       "2001    3896\n",
       "1990    3303\n",
       "1987    3110\n",
       "1989    2901\n",
       "1988    2733\n",
       "1986    2409\n",
       "1985    1990\n",
       "1984    1515\n",
       "1983    1482\n",
       "1980    1097\n",
       "1982    1036\n",
       "1981     993\n",
       "1979     981\n",
       "1978     786\n",
       "1977     734\n",
       "1975     732\n",
       "1976     665\n",
       "        ... \n",
       "1930     128\n",
       "1929     127\n",
       "1925     125\n",
       "1928      94\n",
       "1927      90\n",
       "1920      78\n",
       "1916      68\n",
       "1924      59\n",
       "1921      58\n",
       "1915      53\n",
       "1917      40\n",
       "1922      40\n",
       "1914      37\n",
       "1923      37\n",
       "1918      35\n",
       "1919      33\n",
       "1909      10\n",
       "1912       9\n",
       "1913       9\n",
       "1900       7\n",
       "2005       5\n",
       "1911       4\n",
       "2006       2\n",
       "8041       1\n",
       "8022       1\n",
       "9225       1\n",
       "1884       1\n",
       "1903       1\n",
       "1895       1\n",
       "1910       1\n",
       "Name: Year, dtype: int64"
      ]
     },
     "execution_count": 132,
     "metadata": {},
     "output_type": "execute_result"
    }
   ],
   "source": [
    "newdf.Year.value_counts()"
   ]
  },
  {
   "cell_type": "code",
   "execution_count": 133,
   "metadata": {
    "collapsed": false
   },
   "outputs": [
    {
     "data": {
      "text/html": [
       "<div>\n",
       "<table border=\"1\" class=\"dataframe\">\n",
       "  <thead>\n",
       "    <tr style=\"text-align: right;\">\n",
       "      <th></th>\n",
       "      <th>Title</th>\n",
       "      <th>Year</th>\n",
       "      <th>Genre</th>\n",
       "      <th>Critic Rating</th>\n",
       "      <th>Movie Mom Rating</th>\n",
       "      <th>Yahoo Rating</th>\n",
       "    </tr>\n",
       "  </thead>\n",
       "  <tbody>\n",
       "    <tr>\n",
       "      <th>89212</th>\n",
       "      <td>Roy Rogers - Bells of San Angelo/Heldorado</td>\n",
       "      <td>9225</td>\n",
       "      <td>\\N</td>\n",
       "      <td>\\N</td>\n",
       "      <td>\\N</td>\n",
       "      <td>\\N</td>\n",
       "    </tr>\n",
       "  </tbody>\n",
       "</table>\n",
       "</div>"
      ],
      "text/plain": [
       "                                            Title  Year Genre Critic Rating  \\\n",
       "89212  Roy Rogers - Bells of San Angelo/Heldorado  9225    \\N            \\N   \n",
       "\n",
       "      Movie Mom Rating Yahoo Rating  \n",
       "89212               \\N           \\N  "
      ]
     },
     "execution_count": 133,
     "metadata": {},
     "output_type": "execute_result"
    }
   ],
   "source": [
    "newdf.loc[yeardf.Year == 9225]"
   ]
  },
  {
   "cell_type": "code",
   "execution_count": 134,
   "metadata": {
    "collapsed": true
   },
   "outputs": [],
   "source": [
    "newdf.Year.replace([9225], [1947], inplace=True)"
   ]
  },
  {
   "cell_type": "code",
   "execution_count": 135,
   "metadata": {
    "collapsed": false
   },
   "outputs": [
    {
     "data": {
      "text/plain": [
       "1999    5759\n",
       "2003    5150\n",
       "5       5023\n",
       "2002    4918\n",
       "1995    4512\n",
       "2000    4424\n",
       "1998    4355\n",
       "1992    4276\n",
       "1994    4243\n",
       "1997    4111\n",
       "1996    4024\n",
       "1993    3966\n",
       "1991    3936\n",
       "2001    3896\n",
       "1990    3303\n",
       "1987    3110\n",
       "1989    2901\n",
       "1988    2733\n",
       "1986    2409\n",
       "1985    1990\n",
       "1984    1515\n",
       "1983    1482\n",
       "1980    1097\n",
       "1982    1036\n",
       "1981     993\n",
       "1979     981\n",
       "1978     786\n",
       "1977     734\n",
       "1975     732\n",
       "1976     665\n",
       "        ... \n",
       "2004     131\n",
       "1930     128\n",
       "1929     127\n",
       "1925     125\n",
       "1928      94\n",
       "1927      90\n",
       "1920      78\n",
       "1916      68\n",
       "1924      59\n",
       "1921      58\n",
       "1915      53\n",
       "1917      40\n",
       "1922      40\n",
       "1923      37\n",
       "1914      37\n",
       "1918      35\n",
       "1919      33\n",
       "1909      10\n",
       "1912       9\n",
       "1913       9\n",
       "1900       7\n",
       "2005       5\n",
       "1911       4\n",
       "2006       2\n",
       "1884       1\n",
       "1910       1\n",
       "8022       1\n",
       "1903       1\n",
       "8041       1\n",
       "1895       1\n",
       "Name: Year, dtype: int64"
      ]
     },
     "execution_count": 135,
     "metadata": {},
     "output_type": "execute_result"
    }
   ],
   "source": [
    "newdf.Year.value_counts()"
   ]
  },
  {
   "cell_type": "code",
   "execution_count": 230,
   "metadata": {
    "collapsed": false
   },
   "outputs": [
    {
     "data": {
      "text/html": [
       "<div>\n",
       "<table border=\"1\" class=\"dataframe\">\n",
       "  <thead>\n",
       "    <tr style=\"text-align: right;\">\n",
       "      <th></th>\n",
       "      <th>Title</th>\n",
       "      <th>Year</th>\n",
       "      <th>Genre</th>\n",
       "      <th>Critic Rating</th>\n",
       "      <th>Movie Mom Rating</th>\n",
       "      <th>Yahoo Rating</th>\n",
       "    </tr>\n",
       "  </thead>\n",
       "  <tbody>\n",
       "    <tr>\n",
       "      <th>10969</th>\n",
       "      <td>Pioneer Cinema</td>\n",
       "      <td>1895</td>\n",
       "      <td>Special Interest</td>\n",
       "      <td>\\N</td>\n",
       "      <td>\\N</td>\n",
       "      <td>\\N</td>\n",
       "    </tr>\n",
       "  </tbody>\n",
       "</table>\n",
       "</div>"
      ],
      "text/plain": [
       "                 Title  Year             Genre Critic Rating Movie Mom Rating  \\\n",
       "10969  Pioneer Cinema   1895  Special Interest            \\N               \\N   \n",
       "\n",
       "      Yahoo Rating  \n",
       "10969           \\N  "
      ]
     },
     "execution_count": 230,
     "metadata": {},
     "output_type": "execute_result"
    }
   ],
   "source": [
    "newdf.loc[yeardf.Year == 1895]"
   ]
  },
  {
   "cell_type": "code",
   "execution_count": 235,
   "metadata": {
    "collapsed": false
   },
   "outputs": [],
   "source": [
    "#Pioneer Cinema isn't a movie. WHy is this here?? UGH\n",
    "\n",
    "newa = newdf[newdf['Year'] > 1970]"
   ]
  },
  {
   "cell_type": "code",
   "execution_count": 236,
   "metadata": {
    "collapsed": false
   },
   "outputs": [
    {
     "data": {
      "text/plain": [
       "1999    5759\n",
       "2003    5150\n",
       "2002    4918\n",
       "1995    4512\n",
       "2000    4424\n",
       "1998    4355\n",
       "1992    4276\n",
       "1994    4243\n",
       "1997    4111\n",
       "1996    4024\n",
       "1993    3966\n",
       "1991    3936\n",
       "2001    3896\n",
       "1990    3303\n",
       "1987    3110\n",
       "1989    2901\n",
       "1988    2733\n",
       "1986    2409\n",
       "1985    1990\n",
       "1984    1515\n",
       "1983    1482\n",
       "1980    1097\n",
       "1982    1036\n",
       "1981     993\n",
       "1979     981\n",
       "1978     786\n",
       "1977     734\n",
       "1975     732\n",
       "1976     665\n",
       "1973     638\n",
       "1974     636\n",
       "1972     614\n",
       "1971     508\n",
       "2004     131\n",
       "2005       5\n",
       "2006       2\n",
       "8041       1\n",
       "8022       1\n",
       "Name: Year, dtype: int64"
      ]
     },
     "execution_count": 236,
     "metadata": {},
     "output_type": "execute_result"
    }
   ],
   "source": [
    "newa.Year.value_counts()"
   ]
  },
  {
   "cell_type": "code",
   "execution_count": 237,
   "metadata": {
    "collapsed": false
   },
   "outputs": [],
   "source": [
    "newyear = newa[newa['Year'] < 2005]"
   ]
  },
  {
   "cell_type": "code",
   "execution_count": 238,
   "metadata": {
    "collapsed": false
   },
   "outputs": [
    {
     "data": {
      "text/plain": [
       "1999    5759\n",
       "2003    5150\n",
       "2002    4918\n",
       "1995    4512\n",
       "2000    4424\n",
       "1998    4355\n",
       "1992    4276\n",
       "1994    4243\n",
       "1997    4111\n",
       "1996    4024\n",
       "1993    3966\n",
       "1991    3936\n",
       "2001    3896\n",
       "1990    3303\n",
       "1987    3110\n",
       "1989    2901\n",
       "1988    2733\n",
       "1986    2409\n",
       "1985    1990\n",
       "1984    1515\n",
       "1983    1482\n",
       "1980    1097\n",
       "1982    1036\n",
       "1981     993\n",
       "1979     981\n",
       "1978     786\n",
       "1977     734\n",
       "1975     732\n",
       "1976     665\n",
       "1973     638\n",
       "1974     636\n",
       "1972     614\n",
       "1971     508\n",
       "2004     131\n",
       "Name: Year, dtype: int64"
      ]
     },
     "execution_count": 238,
     "metadata": {},
     "output_type": "execute_result"
    }
   ],
   "source": [
    "newyear.Year.value_counts()"
   ]
  },
  {
   "cell_type": "code",
   "execution_count": 244,
   "metadata": {
    "collapsed": false
   },
   "outputs": [
    {
     "data": {
      "text/html": [
       "<div>\n",
       "<table border=\"1\" class=\"dataframe\">\n",
       "  <thead>\n",
       "    <tr style=\"text-align: right;\">\n",
       "      <th></th>\n",
       "      <th>Title</th>\n",
       "      <th>Year</th>\n",
       "      <th>Genre</th>\n",
       "      <th>Critic Rating</th>\n",
       "      <th>Movie Mom Rating</th>\n",
       "      <th>Yahoo Rating</th>\n",
       "    </tr>\n",
       "  </thead>\n",
       "  <tbody>\n",
       "    <tr>\n",
       "      <th>0</th>\n",
       "      <td>The 1985 Admiral's Cup</td>\n",
       "      <td>1997</td>\n",
       "      <td>Special Interest</td>\n",
       "      <td>\\N</td>\n",
       "      <td>\\N</td>\n",
       "      <td>\\N</td>\n",
       "    </tr>\n",
       "    <tr>\n",
       "      <th>1</th>\n",
       "      <td>984 - Prisoner of the Future</td>\n",
       "      <td>1984</td>\n",
       "      <td>Science Fiction/Fantasy</td>\n",
       "      <td>\\N</td>\n",
       "      <td>\\N</td>\n",
       "      <td>\\N</td>\n",
       "    </tr>\n",
       "    <tr>\n",
       "      <th>2</th>\n",
       "      <td>A's All-Star Almanac</td>\n",
       "      <td>1987</td>\n",
       "      <td>Special Interest</td>\n",
       "      <td>\\N</td>\n",
       "      <td>\\N</td>\n",
       "      <td>7</td>\n",
       "    </tr>\n",
       "    <tr>\n",
       "      <th>4</th>\n",
       "      <td>The Adventures of Black Beauty 1</td>\n",
       "      <td>1972</td>\n",
       "      <td>Kids/Family</td>\n",
       "      <td>\\N</td>\n",
       "      <td>\\N</td>\n",
       "      <td>\\N</td>\n",
       "    </tr>\n",
       "    <tr>\n",
       "      <th>5</th>\n",
       "      <td>The Adventures of Black Beauty 2</td>\n",
       "      <td>1972</td>\n",
       "      <td>Kids/Family</td>\n",
       "      <td>\\N</td>\n",
       "      <td>\\N</td>\n",
       "      <td>\\N</td>\n",
       "    </tr>\n",
       "  </tbody>\n",
       "</table>\n",
       "</div>"
      ],
      "text/plain": [
       "                               Title  Year                    Genre  \\\n",
       "0            The 1985 Admiral's Cup   1997         Special Interest   \n",
       "1      984 - Prisoner of the Future   1984  Science Fiction/Fantasy   \n",
       "2              A's All-Star Almanac   1987         Special Interest   \n",
       "4  The Adventures of Black Beauty 1   1972              Kids/Family   \n",
       "5  The Adventures of Black Beauty 2   1972              Kids/Family   \n",
       "\n",
       "  Critic Rating Movie Mom Rating Yahoo Rating  \n",
       "0            \\N               \\N           \\N  \n",
       "1            \\N               \\N           \\N  \n",
       "2            \\N               \\N            7  \n",
       "4            \\N               \\N           \\N  \n",
       "5            \\N               \\N           \\N  "
      ]
     },
     "execution_count": 244,
     "metadata": {},
     "output_type": "execute_result"
    }
   ],
   "source": [
    "newyear.head()"
   ]
  },
  {
   "cell_type": "markdown",
   "metadata": {},
   "source": [
    "For the movie rating based on year, we will use the following protocol:\n",
    "1. Yahoo Rating is priority\n",
    "2. If Yahoo Rating doesn't exist, we use Critic Rating\n",
    "3. Movie Mom rating is last option because we know they are harsher raters\n",
    "4. If no ratings exist, we will delete the movie from the dataset"
   ]
  },
  {
   "cell_type": "code",
   "execution_count": 246,
   "metadata": {
    "collapsed": false,
    "scrolled": true
   },
   "outputs": [
    {
     "name": "stderr",
     "output_type": "stream",
     "text": [
      "/Users/joshuapark/anaconda/lib/python3.5/site-packages/ipykernel/__main__.py:11: SettingWithCopyWarning: \n",
      "A value is trying to be set on a copy of a slice from a DataFrame.\n",
      "Try using .loc[row_indexer,col_indexer] = value instead\n",
      "\n",
      "See the caveats in the documentation: http://pandas.pydata.org/pandas-docs/stable/indexing.html#indexing-view-versus-copy\n"
     ]
    }
   ],
   "source": [
    "import numpy as np\n",
    "def rating(row):\n",
    "    if row['Yahoo Rating'] != r'\\N':\n",
    "        return row['Yahoo Rating']\n",
    "    if row['Critic Rating'] != r'\\N':\n",
    "        return row['Critic Rating']\n",
    "    if row['Movie Mom Rating'] != r'\\N':\n",
    "        return row['Movie Mom Rating']\n",
    "    return np.nan\n",
    "    \n",
    "newyear['Rating'] = newyear.apply(rating, axis = 1)"
   ]
  },
  {
   "cell_type": "code",
   "execution_count": 247,
   "metadata": {
    "collapsed": false
   },
   "outputs": [
    {
     "data": {
      "text/html": [
       "<div>\n",
       "<table border=\"1\" class=\"dataframe\">\n",
       "  <thead>\n",
       "    <tr style=\"text-align: right;\">\n",
       "      <th></th>\n",
       "      <th>Title</th>\n",
       "      <th>Year</th>\n",
       "      <th>Genre</th>\n",
       "      <th>Critic Rating</th>\n",
       "      <th>Movie Mom Rating</th>\n",
       "      <th>Yahoo Rating</th>\n",
       "      <th>Rating</th>\n",
       "    </tr>\n",
       "  </thead>\n",
       "  <tbody>\n",
       "    <tr>\n",
       "      <th>0</th>\n",
       "      <td>The 1985 Admiral's Cup</td>\n",
       "      <td>1997</td>\n",
       "      <td>Special Interest</td>\n",
       "      <td>\\N</td>\n",
       "      <td>\\N</td>\n",
       "      <td>\\N</td>\n",
       "      <td>NaN</td>\n",
       "    </tr>\n",
       "    <tr>\n",
       "      <th>1</th>\n",
       "      <td>984 - Prisoner of the Future</td>\n",
       "      <td>1984</td>\n",
       "      <td>Science Fiction/Fantasy</td>\n",
       "      <td>\\N</td>\n",
       "      <td>\\N</td>\n",
       "      <td>\\N</td>\n",
       "      <td>NaN</td>\n",
       "    </tr>\n",
       "    <tr>\n",
       "      <th>2</th>\n",
       "      <td>A's All-Star Almanac</td>\n",
       "      <td>1987</td>\n",
       "      <td>Special Interest</td>\n",
       "      <td>\\N</td>\n",
       "      <td>\\N</td>\n",
       "      <td>7</td>\n",
       "      <td>7</td>\n",
       "    </tr>\n",
       "    <tr>\n",
       "      <th>4</th>\n",
       "      <td>The Adventures of Black Beauty 1</td>\n",
       "      <td>1972</td>\n",
       "      <td>Kids/Family</td>\n",
       "      <td>\\N</td>\n",
       "      <td>\\N</td>\n",
       "      <td>\\N</td>\n",
       "      <td>NaN</td>\n",
       "    </tr>\n",
       "    <tr>\n",
       "      <th>5</th>\n",
       "      <td>The Adventures of Black Beauty 2</td>\n",
       "      <td>1972</td>\n",
       "      <td>Kids/Family</td>\n",
       "      <td>\\N</td>\n",
       "      <td>\\N</td>\n",
       "      <td>\\N</td>\n",
       "      <td>NaN</td>\n",
       "    </tr>\n",
       "  </tbody>\n",
       "</table>\n",
       "</div>"
      ],
      "text/plain": [
       "                               Title  Year                    Genre  \\\n",
       "0            The 1985 Admiral's Cup   1997         Special Interest   \n",
       "1      984 - Prisoner of the Future   1984  Science Fiction/Fantasy   \n",
       "2              A's All-Star Almanac   1987         Special Interest   \n",
       "4  The Adventures of Black Beauty 1   1972              Kids/Family   \n",
       "5  The Adventures of Black Beauty 2   1972              Kids/Family   \n",
       "\n",
       "  Critic Rating Movie Mom Rating Yahoo Rating Rating  \n",
       "0            \\N               \\N           \\N    NaN  \n",
       "1            \\N               \\N           \\N    NaN  \n",
       "2            \\N               \\N            7      7  \n",
       "4            \\N               \\N           \\N    NaN  \n",
       "5            \\N               \\N           \\N    NaN  "
      ]
     },
     "execution_count": 247,
     "metadata": {},
     "output_type": "execute_result"
    }
   ],
   "source": [
    "newyear.head()"
   ]
  },
  {
   "cell_type": "code",
   "execution_count": 275,
   "metadata": {
    "collapsed": false
   },
   "outputs": [
    {
     "data": {
      "text/html": [
       "<div>\n",
       "<table border=\"1\" class=\"dataframe\">\n",
       "  <thead>\n",
       "    <tr style=\"text-align: right;\">\n",
       "      <th></th>\n",
       "      <th>Year</th>\n",
       "      <th>Rating</th>\n",
       "    </tr>\n",
       "  </thead>\n",
       "  <tbody>\n",
       "    <tr>\n",
       "      <th>0</th>\n",
       "      <td>1997</td>\n",
       "      <td>NaN</td>\n",
       "    </tr>\n",
       "    <tr>\n",
       "      <th>1</th>\n",
       "      <td>1984</td>\n",
       "      <td>NaN</td>\n",
       "    </tr>\n",
       "    <tr>\n",
       "      <th>2</th>\n",
       "      <td>1987</td>\n",
       "      <td>7</td>\n",
       "    </tr>\n",
       "    <tr>\n",
       "      <th>4</th>\n",
       "      <td>1972</td>\n",
       "      <td>NaN</td>\n",
       "    </tr>\n",
       "    <tr>\n",
       "      <th>5</th>\n",
       "      <td>1972</td>\n",
       "      <td>NaN</td>\n",
       "    </tr>\n",
       "  </tbody>\n",
       "</table>\n",
       "</div>"
      ],
      "text/plain": [
       "   Year Rating\n",
       "0  1997    NaN\n",
       "1  1984    NaN\n",
       "2  1987      7\n",
       "4  1972    NaN\n",
       "5  1972    NaN"
      ]
     },
     "execution_count": 275,
     "metadata": {},
     "output_type": "execute_result"
    }
   ],
   "source": [
    "yranalysis = newyear[[1, 6]]\n",
    "yranalysis.columns = ['Year', 'Rating']\n",
    "yranalysis.head()"
   ]
  },
  {
   "cell_type": "code",
   "execution_count": 278,
   "metadata": {
    "collapsed": false
   },
   "outputs": [],
   "source": [
    "yranalysis = yranalysis[pd.notnull(yranalysis['Rating'])]"
   ]
  },
  {
   "cell_type": "code",
   "execution_count": 291,
   "metadata": {
    "collapsed": false
   },
   "outputs": [
    {
     "data": {
      "text/html": [
       "<div>\n",
       "<table border=\"1\" class=\"dataframe\">\n",
       "  <thead>\n",
       "    <tr style=\"text-align: right;\">\n",
       "      <th></th>\n",
       "      <th>Year</th>\n",
       "      <th>Rating</th>\n",
       "    </tr>\n",
       "  </thead>\n",
       "  <tbody>\n",
       "    <tr>\n",
       "      <th>2</th>\n",
       "      <td>1987</td>\n",
       "      <td>7</td>\n",
       "    </tr>\n",
       "    <tr>\n",
       "      <th>24</th>\n",
       "      <td>1985</td>\n",
       "      <td>13</td>\n",
       "    </tr>\n",
       "    <tr>\n",
       "      <th>61</th>\n",
       "      <td>1999</td>\n",
       "      <td>10.64137931</td>\n",
       "    </tr>\n",
       "    <tr>\n",
       "      <th>62</th>\n",
       "      <td>1999</td>\n",
       "      <td>5</td>\n",
       "    </tr>\n",
       "    <tr>\n",
       "      <th>63</th>\n",
       "      <td>1999</td>\n",
       "      <td>9.022727273</td>\n",
       "    </tr>\n",
       "  </tbody>\n",
       "</table>\n",
       "</div>"
      ],
      "text/plain": [
       "    Year       Rating\n",
       "2   1987            7\n",
       "24  1985           13\n",
       "61  1999  10.64137931\n",
       "62  1999            5\n",
       "63  1999  9.022727273"
      ]
     },
     "execution_count": 291,
     "metadata": {},
     "output_type": "execute_result"
    }
   ],
   "source": [
    "yranalysis.head()"
   ]
  },
  {
   "cell_type": "code",
   "execution_count": 301,
   "metadata": {
    "collapsed": false
   },
   "outputs": [],
   "source": [
    "yranalysis['Rating'] = yranalysis['Rating'].astype(float)"
   ]
  },
  {
   "cell_type": "code",
   "execution_count": 323,
   "metadata": {
    "collapsed": false
   },
   "outputs": [
    {
     "data": {
      "text/html": [
       "<div>\n",
       "<table border=\"1\" class=\"dataframe\">\n",
       "  <thead>\n",
       "    <tr style=\"text-align: right;\">\n",
       "      <th></th>\n",
       "      <th>Rating</th>\n",
       "    </tr>\n",
       "    <tr>\n",
       "      <th>Year</th>\n",
       "      <th></th>\n",
       "    </tr>\n",
       "  </thead>\n",
       "  <tbody>\n",
       "    <tr>\n",
       "      <th>1971</th>\n",
       "      <td>9.10</td>\n",
       "    </tr>\n",
       "    <tr>\n",
       "      <th>1972</th>\n",
       "      <td>8.70</td>\n",
       "    </tr>\n",
       "    <tr>\n",
       "      <th>1973</th>\n",
       "      <td>9.24</td>\n",
       "    </tr>\n",
       "    <tr>\n",
       "      <th>1974</th>\n",
       "      <td>9.25</td>\n",
       "    </tr>\n",
       "    <tr>\n",
       "      <th>1975</th>\n",
       "      <td>9.78</td>\n",
       "    </tr>\n",
       "    <tr>\n",
       "      <th>1976</th>\n",
       "      <td>9.60</td>\n",
       "    </tr>\n",
       "    <tr>\n",
       "      <th>1977</th>\n",
       "      <td>9.42</td>\n",
       "    </tr>\n",
       "    <tr>\n",
       "      <th>1978</th>\n",
       "      <td>9.19</td>\n",
       "    </tr>\n",
       "    <tr>\n",
       "      <th>1979</th>\n",
       "      <td>9.41</td>\n",
       "    </tr>\n",
       "    <tr>\n",
       "      <th>1980</th>\n",
       "      <td>9.24</td>\n",
       "    </tr>\n",
       "    <tr>\n",
       "      <th>1981</th>\n",
       "      <td>9.20</td>\n",
       "    </tr>\n",
       "    <tr>\n",
       "      <th>1982</th>\n",
       "      <td>9.39</td>\n",
       "    </tr>\n",
       "    <tr>\n",
       "      <th>1983</th>\n",
       "      <td>9.36</td>\n",
       "    </tr>\n",
       "    <tr>\n",
       "      <th>1984</th>\n",
       "      <td>9.02</td>\n",
       "    </tr>\n",
       "    <tr>\n",
       "      <th>1985</th>\n",
       "      <td>8.89</td>\n",
       "    </tr>\n",
       "    <tr>\n",
       "      <th>1986</th>\n",
       "      <td>9.22</td>\n",
       "    </tr>\n",
       "    <tr>\n",
       "      <th>1987</th>\n",
       "      <td>9.18</td>\n",
       "    </tr>\n",
       "    <tr>\n",
       "      <th>1988</th>\n",
       "      <td>9.43</td>\n",
       "    </tr>\n",
       "    <tr>\n",
       "      <th>1989</th>\n",
       "      <td>9.15</td>\n",
       "    </tr>\n",
       "    <tr>\n",
       "      <th>1990</th>\n",
       "      <td>9.21</td>\n",
       "    </tr>\n",
       "    <tr>\n",
       "      <th>1991</th>\n",
       "      <td>9.50</td>\n",
       "    </tr>\n",
       "    <tr>\n",
       "      <th>1992</th>\n",
       "      <td>9.34</td>\n",
       "    </tr>\n",
       "    <tr>\n",
       "      <th>1993</th>\n",
       "      <td>9.48</td>\n",
       "    </tr>\n",
       "    <tr>\n",
       "      <th>1994</th>\n",
       "      <td>9.16</td>\n",
       "    </tr>\n",
       "    <tr>\n",
       "      <th>1995</th>\n",
       "      <td>9.12</td>\n",
       "    </tr>\n",
       "    <tr>\n",
       "      <th>1996</th>\n",
       "      <td>9.15</td>\n",
       "    </tr>\n",
       "    <tr>\n",
       "      <th>1997</th>\n",
       "      <td>8.97</td>\n",
       "    </tr>\n",
       "    <tr>\n",
       "      <th>1998</th>\n",
       "      <td>9.15</td>\n",
       "    </tr>\n",
       "    <tr>\n",
       "      <th>1999</th>\n",
       "      <td>9.21</td>\n",
       "    </tr>\n",
       "    <tr>\n",
       "      <th>2000</th>\n",
       "      <td>9.10</td>\n",
       "    </tr>\n",
       "    <tr>\n",
       "      <th>2001</th>\n",
       "      <td>9.07</td>\n",
       "    </tr>\n",
       "    <tr>\n",
       "      <th>2002</th>\n",
       "      <td>8.94</td>\n",
       "    </tr>\n",
       "    <tr>\n",
       "      <th>2003</th>\n",
       "      <td>8.98</td>\n",
       "    </tr>\n",
       "    <tr>\n",
       "      <th>2004</th>\n",
       "      <td>10.47</td>\n",
       "    </tr>\n",
       "  </tbody>\n",
       "</table>\n",
       "</div>"
      ],
      "text/plain": [
       "      Rating\n",
       "Year        \n",
       "1971    9.10\n",
       "1972    8.70\n",
       "1973    9.24\n",
       "1974    9.25\n",
       "1975    9.78\n",
       "1976    9.60\n",
       "1977    9.42\n",
       "1978    9.19\n",
       "1979    9.41\n",
       "1980    9.24\n",
       "1981    9.20\n",
       "1982    9.39\n",
       "1983    9.36\n",
       "1984    9.02\n",
       "1985    8.89\n",
       "1986    9.22\n",
       "1987    9.18\n",
       "1988    9.43\n",
       "1989    9.15\n",
       "1990    9.21\n",
       "1991    9.50\n",
       "1992    9.34\n",
       "1993    9.48\n",
       "1994    9.16\n",
       "1995    9.12\n",
       "1996    9.15\n",
       "1997    8.97\n",
       "1998    9.15\n",
       "1999    9.21\n",
       "2000    9.10\n",
       "2001    9.07\n",
       "2002    8.94\n",
       "2003    8.98\n",
       "2004   10.47"
      ]
     },
     "execution_count": 323,
     "metadata": {},
     "output_type": "execute_result"
    }
   ],
   "source": [
    "#Sort by year\n",
    "#Find average rating\n",
    "\n",
    "yeargroup = yranalysis['Rating'].groupby(yranalysis['Year'])\n",
    "yearavg = yeargroup.mean()\n",
    "#yearlook = yearavg.sort_values(ascending=False)\n",
    "yearlook = yearavg.to_frame()\n",
    "yearlook\n"
   ]
  },
  {
   "cell_type": "code",
   "execution_count": 336,
   "metadata": {
    "collapsed": false
   },
   "outputs": [
    {
     "data": {
      "text/plain": [
       "(8, 11)"
      ]
     },
     "execution_count": 336,
     "metadata": {},
     "output_type": "execute_result"
    },
    {
     "data": {
      "image/png": "[encoded data removed]",
      "text/plain": [
       "<matplotlib.figure.Figure at 0x11affa6a0>"
      ]
     },
     "metadata": {},
     "output_type": "display_data"
    }
   ],
   "source": [
    "yearplot = yearlook.plot(kind='bar', title = 'Avg Rating by Year', figsize =(35,10), legend=True, fontsize=20)\n",
    "yearplot.set_xlabel('Year', fontsize=30)\n",
    "yearplot.set_ylabel('Rating', fontsize=30)\n",
    "yearplot.legend(prop={'size': 20})\n",
    "yearplot.set_ylim(8,11)"
   ]
  },
  {
   "cell_type": "markdown",
   "metadata": {},
   "source": [
    "Observations:\n",
    "1. 2004 had the highest rated movies with 10.47. What movies were produced then?\n",
    "2. 1975 had the second highest rated movies with 9.78.\n",
    "3. There is a trend where every 4-5 years, the movies seem to gain ratings. Then after that peak, the ratings slowly drop back down until the next fourth year. \n",
    "\n",
    "Overall, these ratings are very similar. Most of them are within the 9-10 range so there isn't TOO much variety between the years."
   ]
  },
  {
   "cell_type": "markdown",
   "metadata": {},
   "source": [
    "Rater Information Analysis"
   ]
  },
  {
   "cell_type": "code",
   "execution_count": 65,
   "metadata": {
    "collapsed": true
   },
   "outputs": [],
   "source": [
    "rater.columns =['user_id', \"b_year\",\"gender\"]\n",
    "# Convert user birth year from str to int\n",
    "def b_year(val):\n",
    "    if val != \"undef\":\n",
    "        val = int(val)\n",
    "    else:\n",
    "        val = \"undef\"\n",
    "    return val\n",
    "\n",
    "rater['b_year'] = rater['b_year'].apply(b_year)\n",
    "rating.columns = ['user_id',\"ID\",\"rating\",\"convert_r\"]"
   ]
  },
  {
   "cell_type": "markdown",
   "metadata": {},
   "source": [
    "Dataset Cleaning"
   ]
  },
  {
   "cell_type": "code",
   "execution_count": 66,
   "metadata": {
    "collapsed": false
   },
   "outputs": [],
   "source": [
    "Data = data[[0, 1, 3, 4, 6, 10, 18, 20, 21, 24, 32]]\n",
    "Data.columns = ['ID', 'Title', 'Length', 'MPAA Rating', 'Release Date', 'Genres', 'Avg. Critic Ratings',\n",
    "                  '# of Awards won', '# of awards nomination', 'Movie Mom Rating', 'Avg. Training Rating']"
   ]
  },
  {
   "cell_type": "code",
   "execution_count": 67,
   "metadata": {
    "collapsed": false
   },
   "outputs": [
    {
     "name": "stderr",
     "output_type": "stream",
     "text": [
      "/Users/zhichaoyang/anaconda/lib/python3.5/site-packages/ipykernel/__main__.py:1: SettingWithCopyWarning: \n",
      "A value is trying to be set on a copy of a slice from a DataFrame.\n",
      "Try using .loc[row_indexer,col_indexer] = value instead\n",
      "\n",
      "See the caveats in the documentation: http://pandas.pydata.org/pandas-docs/stable/indexing.html#indexing-view-versus-copy\n",
      "  if __name__ == '__main__':\n",
      "/Users/zhichaoyang/anaconda/lib/python3.5/site-packages/ipykernel/__main__.py:10: SettingWithCopyWarning: \n",
      "A value is trying to be set on a copy of a slice from a DataFrame\n",
      "\n",
      "See the caveats in the documentation: http://pandas.pydata.org/pandas-docs/stable/indexing.html#indexing-view-versus-copy\n",
      "/Users/zhichaoyang/anaconda/lib/python3.5/site-packages/IPython/core/interactiveshell.py:2885: SettingWithCopyWarning: \n",
      "A value is trying to be set on a copy of a slice from a DataFrame\n",
      "\n",
      "See the caveats in the documentation: http://pandas.pydata.org/pandas-docs/stable/indexing.html#indexing-view-versus-copy\n",
      "  exec(code_obj, self.user_global_ns, self.user_ns)\n",
      "/Users/zhichaoyang/anaconda/lib/python3.5/site-packages/ipykernel/__main__.py:11: SettingWithCopyWarning: \n",
      "A value is trying to be set on a copy of a slice from a DataFrame\n",
      "\n",
      "See the caveats in the documentation: http://pandas.pydata.org/pandas-docs/stable/indexing.html#indexing-view-versus-copy\n"
     ]
    }
   ],
   "source": [
    "Data[\"release_year\"] = Data['Title'].apply(year)\n",
    "\n",
    "# Data Cleaning - release year\n",
    "Data[Data['release_year'] == \"Documentary\"].index.tolist()\n",
    "Data[Data['release_year'] == \"documentary\"].index.tolist()\n",
    "# Data Cleaning - release year: get index\n",
    "Data.Title[98477]\n",
    "Data.Title[235]\n",
    "# Data Cleaning - release year\n",
    "Data.release_year[98477] = 2001\n",
    "Data.release_year[235] = 1999"
   ]
  },
  {
   "cell_type": "code",
   "execution_count": 68,
   "metadata": {
    "collapsed": false
   },
   "outputs": [
    {
     "name": "stderr",
     "output_type": "stream",
     "text": [
      "/Users/zhichaoyang/anaconda/lib/python3.5/site-packages/ipykernel/__main__.py:1: SettingWithCopyWarning: \n",
      "A value is trying to be set on a copy of a slice from a DataFrame.\n",
      "Try using .loc[row_indexer,col_indexer] = value instead\n",
      "\n",
      "See the caveats in the documentation: http://pandas.pydata.org/pandas-docs/stable/indexing.html#indexing-view-versus-copy\n",
      "  if __name__ == '__main__':\n"
     ]
    }
   ],
   "source": [
    "Data['release_year'] = Data['release_year'].apply(r_year)"
   ]
  },
  {
   "cell_type": "markdown",
   "metadata": {},
   "source": [
    "Combine the three datasets for analysis."
   ]
  },
  {
   "cell_type": "code",
   "execution_count": 69,
   "metadata": {
    "collapsed": false
   },
   "outputs": [
    {
     "data": {
      "text/plain": [
       "<matplotlib.axes._subplots.AxesSubplot at 0x11cdd2080>"
      ]
     },
     "execution_count": 69,
     "metadata": {},
     "output_type": "execute_result"
    },
    {
     "data": {
      "image/png": "[encoded data removed]",
      "text/plain": [
       "<matplotlib.figure.Figure at 0x11dc66908>"
      ]
     },
     "metadata": {},
     "output_type": "display_data"
    }
   ],
   "source": [
    "GEN = pd.DataFrame(Data['Genres'].str.split('|').tolist(), index=Data['Avg. Training Rating']).stack()\n",
    "GEN = GEN.reset_index()[[0, 'Avg. Training Rating']]  \n",
    "GEN.columns = ['Genres', 'Avg_Rating']\n",
    "\n",
    "GENgraph = GEN.Genres.value_counts()\n",
    "GENgraph.plot(kind = \"bar\", title = \"Num of Movie for Each Genre\", colormap = \"Paired\", figsize =(12,5), fontsize = 15)"
   ]
  },
  {
   "cell_type": "code",
   "execution_count": 70,
   "metadata": {
    "collapsed": true
   },
   "outputs": [],
   "source": [
    "User = rater.join(rating.set_index('user_id'), on = 'user_id', how = 'inner')\n",
    "User = User[[3,0,1,2,4,5]]\n",
    "Combined_user = GR.merge(User,how='left', left_on='ID', right_on='ID')"
   ]
  },
  {
   "cell_type": "code",
   "execution_count": 75,
   "metadata": {
    "collapsed": false
   },
   "outputs": [
    {
     "data": {
      "text/plain": [
       "Genres_x\n",
       "Comedy                     69147\n",
       "Action/Adventure           65824\n",
       "Drama                      51841\n",
       "Thriller                   32401\n",
       "Science Fiction/Fantasy    31112\n",
       "Crime/Gangster             24636\n",
       "Romance                    18544\n",
       "Kids/Family                17537\n",
       "\\N                         14785\n",
       "Suspense/Horror            14371\n",
       "Animation                   7061\n",
       "Art/Foreign                 5577\n",
       "Musical/Performing Arts     5443\n",
       "Western                     1808\n",
       "Documentary                  975\n",
       "Special Interest             423\n",
       "Reality                       49\n",
       "Adult Audience                13\n",
       "Miscellaneous                 11\n",
       "~Delete                        0\n",
       "Features                       0\n",
       "Horror                         0\n",
       "Action and Adventure           0\n",
       "Name: user_id, dtype: int64"
      ]
     },
     "execution_count": 75,
     "metadata": {},
     "output_type": "execute_result"
    }
   ],
   "source": [
    "# Number of raters for each genre\n",
    "NR = Combined_user.groupby(\"Genres_x\")\n",
    "NR2 = NR['user_id'].count()\n",
    "NR2.sort_values(ascending = False)"
   ]
  },
  {
   "cell_type": "markdown",
   "metadata": {},
   "source": [
    "Although there are many special interest movie, but comedy movies got the largest amount of rating. Possible reason is that comeday is a neutral type of genre for all movie viewers. Movie release year might affect the number of rating as well."
   ]
  },
  {
   "cell_type": "code",
   "execution_count": 73,
   "metadata": {
    "collapsed": false
   },
   "outputs": [
    {
     "data": {
      "image/png": "[encoded data removed]",
      "text/plain": [
       "<matplotlib.figure.Figure at 0x12453d898>"
      ]
     },
     "metadata": {},
     "output_type": "display_data"
    }
   ],
   "source": [
    "SI = Combined_user[Combined_user.Genres_x == \"Special Interest\"]\n",
    "#Data Cleaning\n",
    "SI = SI[SI.release_year > 1000]\n",
    "SI2 = SI.release_year.value_counts()\n",
    "SI2_fig = SI2[0:20].plot(kind = \"bar\", figsize =(10,5), colormap = \"Paired\", title = \"Release year for Special Interest\",\n",
    "                        fontsize = 15)"
   ]
  },
  {
   "cell_type": "markdown",
   "metadata": {},
   "source": [
    "Most of the speceial interest movies were relased before year 2000."
   ]
  },
  {
   "cell_type": "code",
   "execution_count": 74,
   "metadata": {
    "collapsed": false
   },
   "outputs": [
    {
     "data": {
      "text/plain": [
       "<matplotlib.axes._subplots.AxesSubplot at 0x11a023b00>"
      ]
     },
     "execution_count": 74,
     "metadata": {},
     "output_type": "execute_result"
    },
    {
     "data": {
      "image/png": "[encoded data removed]",
      "text/plain": [
       "<matplotlib.figure.Figure at 0x11b71bfd0>"
      ]
     },
     "metadata": {},
     "output_type": "display_data"
    }
   ],
   "source": [
    "SI3 = Combined_user[Combined_user.Genres_x == \"Comedy\"]\n",
    "SI4 = SI3.release_year.value_counts()\n",
    "SI4[0:19].plot(kind = \"bar\", figsize =(10,5),colormap = \"Paired\", title = \"Release year for Comedy\",\n",
    "                        fontsize = 15)"
   ]
  },
  {
   "cell_type": "markdown",
   "metadata": {},
   "source": [
    "Most of Comedy were relased in 2003 and early 20s. Since Yahoo movie was started in 2003 and the Internet bacame popular in late 90s, more raters appeared in late 90s. Therefore, it was possible that those recently released movies got more ratings."
   ]
  },
  {
   "cell_type": "code",
   "execution_count": 58,
   "metadata": {
    "collapsed": false
   },
   "outputs": [
    {
     "data": {
      "text/html": [
       "<div>\n",
       "<table border=\"1\" class=\"dataframe\">\n",
       "  <thead>\n",
       "    <tr style=\"text-align: right;\">\n",
       "      <th>gender</th>\n",
       "      <th>male</th>\n",
       "      <th>female</th>\n",
       "      <th>total</th>\n",
       "      <th>male_percent</th>\n",
       "    </tr>\n",
       "    <tr>\n",
       "      <th>Genres_x</th>\n",
       "      <th></th>\n",
       "      <th></th>\n",
       "      <th></th>\n",
       "      <th></th>\n",
       "    </tr>\n",
       "  </thead>\n",
       "  <tbody>\n",
       "    <tr>\n",
       "      <th>Romance</th>\n",
       "      <td>12,209.00</td>\n",
       "      <td>6,298.00</td>\n",
       "      <td>18,507.00</td>\n",
       "      <td>65.97</td>\n",
       "    </tr>\n",
       "    <tr>\n",
       "      <th>Kids/Family</th>\n",
       "      <td>12,071.00</td>\n",
       "      <td>5,416.00</td>\n",
       "      <td>17,487.00</td>\n",
       "      <td>69.03</td>\n",
       "    </tr>\n",
       "    <tr>\n",
       "      <th>Comedy</th>\n",
       "      <td>49,385.00</td>\n",
       "      <td>19,597.00</td>\n",
       "      <td>68,982.00</td>\n",
       "      <td>71.59</td>\n",
       "    </tr>\n",
       "    <tr>\n",
       "      <th>Drama</th>\n",
       "      <td>38,477.00</td>\n",
       "      <td>13,248.00</td>\n",
       "      <td>51,725.00</td>\n",
       "      <td>74.39</td>\n",
       "    </tr>\n",
       "    <tr>\n",
       "      <th>Crime/Gangster</th>\n",
       "      <td>18,787.00</td>\n",
       "      <td>5,791.00</td>\n",
       "      <td>24,578.00</td>\n",
       "      <td>76.44</td>\n",
       "    </tr>\n",
       "    <tr>\n",
       "      <th>Suspense/Horror</th>\n",
       "      <td>11,061.00</td>\n",
       "      <td>3,288.00</td>\n",
       "      <td>14,349.00</td>\n",
       "      <td>77.09</td>\n",
       "    </tr>\n",
       "    <tr>\n",
       "      <th>Action/Adventure</th>\n",
       "      <td>51,356.00</td>\n",
       "      <td>14,260.00</td>\n",
       "      <td>65,616.00</td>\n",
       "      <td>78.27</td>\n",
       "    </tr>\n",
       "    <tr>\n",
       "      <th>Thriller</th>\n",
       "      <td>25,391.00</td>\n",
       "      <td>6,910.00</td>\n",
       "      <td>32,301.00</td>\n",
       "      <td>78.61</td>\n",
       "    </tr>\n",
       "    <tr>\n",
       "      <th>Science Fiction/Fantasy</th>\n",
       "      <td>25,061.00</td>\n",
       "      <td>5,951.00</td>\n",
       "      <td>31,012.00</td>\n",
       "      <td>80.81</td>\n",
       "    </tr>\n",
       "    <tr>\n",
       "      <th>Special Interest</th>\n",
       "      <td>329.00</td>\n",
       "      <td>nan</td>\n",
       "      <td>329.00</td>\n",
       "      <td>100.00</td>\n",
       "    </tr>\n",
       "    <tr>\n",
       "      <th>Reality</th>\n",
       "      <td>45.00</td>\n",
       "      <td>nan</td>\n",
       "      <td>45.00</td>\n",
       "      <td>100.00</td>\n",
       "    </tr>\n",
       "    <tr>\n",
       "      <th>Miscellaneous</th>\n",
       "      <td>9.00</td>\n",
       "      <td>nan</td>\n",
       "      <td>9.00</td>\n",
       "      <td>100.00</td>\n",
       "    </tr>\n",
       "    <tr>\n",
       "      <th>Western</th>\n",
       "      <td>1,458.00</td>\n",
       "      <td>nan</td>\n",
       "      <td>1,458.00</td>\n",
       "      <td>100.00</td>\n",
       "    </tr>\n",
       "    <tr>\n",
       "      <th>Documentary</th>\n",
       "      <td>805.00</td>\n",
       "      <td>nan</td>\n",
       "      <td>805.00</td>\n",
       "      <td>100.00</td>\n",
       "    </tr>\n",
       "    <tr>\n",
       "      <th>Art/Foreign</th>\n",
       "      <td>4,409.00</td>\n",
       "      <td>nan</td>\n",
       "      <td>4,409.00</td>\n",
       "      <td>100.00</td>\n",
       "    </tr>\n",
       "    <tr>\n",
       "      <th>Animation</th>\n",
       "      <td>5,063.00</td>\n",
       "      <td>nan</td>\n",
       "      <td>5,063.00</td>\n",
       "      <td>100.00</td>\n",
       "    </tr>\n",
       "    <tr>\n",
       "      <th>Adult Audience</th>\n",
       "      <td>13.00</td>\n",
       "      <td>nan</td>\n",
       "      <td>13.00</td>\n",
       "      <td>100.00</td>\n",
       "    </tr>\n",
       "    <tr>\n",
       "      <th>Musical/Performing Arts</th>\n",
       "      <td>3,636.00</td>\n",
       "      <td>nan</td>\n",
       "      <td>3,636.00</td>\n",
       "      <td>100.00</td>\n",
       "    </tr>\n",
       "    <tr>\n",
       "      <th>\\N</th>\n",
       "      <td>10,891.00</td>\n",
       "      <td>nan</td>\n",
       "      <td>10,891.00</td>\n",
       "      <td>100.00</td>\n",
       "    </tr>\n",
       "  </tbody>\n",
       "</table>\n",
       "</div>"
      ],
      "text/plain": [
       "gender                       male    female     total  male_percent\n",
       "Genres_x                                                           \n",
       "Romance                 12,209.00  6,298.00 18,507.00         65.97\n",
       "Kids/Family             12,071.00  5,416.00 17,487.00         69.03\n",
       "Comedy                  49,385.00 19,597.00 68,982.00         71.59\n",
       "Drama                   38,477.00 13,248.00 51,725.00         74.39\n",
       "Crime/Gangster          18,787.00  5,791.00 24,578.00         76.44\n",
       "Suspense/Horror         11,061.00  3,288.00 14,349.00         77.09\n",
       "Action/Adventure        51,356.00 14,260.00 65,616.00         78.27\n",
       "Thriller                25,391.00  6,910.00 32,301.00         78.61\n",
       "Science Fiction/Fantasy 25,061.00  5,951.00 31,012.00         80.81\n",
       "Special Interest           329.00       nan    329.00        100.00\n",
       "Reality                     45.00       nan     45.00        100.00\n",
       "Miscellaneous                9.00       nan      9.00        100.00\n",
       "Western                  1,458.00       nan  1,458.00        100.00\n",
       "Documentary                805.00       nan    805.00        100.00\n",
       "Art/Foreign              4,409.00       nan  4,409.00        100.00\n",
       "Animation                5,063.00       nan  5,063.00        100.00\n",
       "Adult Audience              13.00       nan     13.00        100.00\n",
       "Musical/Performing Arts  3,636.00       nan  3,636.00        100.00\n",
       "\\N                      10,891.00       nan 10,891.00        100.00"
      ]
     },
     "execution_count": 58,
     "metadata": {},
     "output_type": "execute_result"
    }
   ],
   "source": [
    "RatingG = Combined_user\n",
    "RatingG[\"count\"] = 1\n",
    "gg = RatingG.pivot_table(values ='count', index=['Genres_x'],\n",
    "                    columns=['gender'], aggfunc= \"sum\")\n",
    "# Data cleaning and calculation for number of rating for each genre by gender.\n",
    "gg['male'] = gg.m\n",
    "gg['female'] = gg.F + gg.f\n",
    "gg = gg[[4,5]]\n",
    "gg['total'] = gg.male.fillna(0) + gg.female.fillna(0)\n",
    "# percentage of ratings from male raters.\n",
    "gg['male_percent'] = (gg.male/gg.total) * 100\n",
    "gg.sort_values(by = \"male_percent\", ascending = True)"
   ]
  },
  {
   "cell_type": "markdown",
   "metadata": {},
   "source": [
    "Romance movies has the highest percentage of ratings from female while Science Fiction/Fantasy has a relative lower percentage of female rating."
   ]
  },
  {
   "cell_type": "code",
   "execution_count": 59,
   "metadata": {
    "collapsed": false
   },
   "outputs": [
    {
     "data": {
      "image/png": "[encoded data removed]",
      "text/plain": [
       "<matplotlib.figure.Figure at 0x11ea0beb8>"
      ]
     },
     "metadata": {},
     "output_type": "display_data"
    }
   ],
   "source": [
    "ax1 = gg[['male','female']].plot(kind='bar', title =\"Genre vs. # of Rating\",figsize=(15,5),legend=True, fontsize=12, \n",
    "                                 colormap='Paired')\n",
    "ax1.set_xlabel(\"Genre\",fontsize=12)\n",
    "ax1.set_ylabel(\"# of Rater\",fontsize=12)\n",
    "plt.show()"
   ]
  },
  {
   "cell_type": "markdown",
   "metadata": {},
   "source": [
    " Correlation between MPAA rating and gender"
   ]
  },
  {
   "cell_type": "code",
   "execution_count": 61,
   "metadata": {
    "collapsed": false
   },
   "outputs": [
    {
     "data": {
      "text/html": [
       "<div>\n",
       "<table border=\"1\" class=\"dataframe\">\n",
       "  <thead>\n",
       "    <tr style=\"text-align: right;\">\n",
       "      <th>gender</th>\n",
       "      <th>male</th>\n",
       "      <th>female</th>\n",
       "      <th>total</th>\n",
       "      <th>male_percent</th>\n",
       "    </tr>\n",
       "    <tr>\n",
       "      <th>MPAA Rating</th>\n",
       "      <th></th>\n",
       "      <th></th>\n",
       "      <th></th>\n",
       "      <th></th>\n",
       "    </tr>\n",
       "  </thead>\n",
       "  <tbody>\n",
       "    <tr>\n",
       "      <th>PG-13</th>\n",
       "      <td>109,956.00</td>\n",
       "      <td>41,306.00</td>\n",
       "      <td>151,262.00</td>\n",
       "      <td>72.70</td>\n",
       "    </tr>\n",
       "    <tr>\n",
       "      <th>R</th>\n",
       "      <td>100,977.00</td>\n",
       "      <td>27,291.00</td>\n",
       "      <td>128,268.00</td>\n",
       "      <td>78.72</td>\n",
       "    </tr>\n",
       "    <tr>\n",
       "      <th>PG</th>\n",
       "      <td>35,690.00</td>\n",
       "      <td>12,904.00</td>\n",
       "      <td>48,594.00</td>\n",
       "      <td>73.40</td>\n",
       "    </tr>\n",
       "    <tr>\n",
       "      <th>G</th>\n",
       "      <td>13,500.00</td>\n",
       "      <td>5,213.00</td>\n",
       "      <td>18,713.00</td>\n",
       "      <td>72.14</td>\n",
       "    </tr>\n",
       "    <tr>\n",
       "      <th>NC-17</th>\n",
       "      <td>107.00</td>\n",
       "      <td>nan</td>\n",
       "      <td>107.00</td>\n",
       "      <td>100.00</td>\n",
       "    </tr>\n",
       "  </tbody>\n",
       "</table>\n",
       "</div>"
      ],
      "text/plain": [
       "gender            male    female      total  male_percent\n",
       "MPAA Rating                                              \n",
       "PG-13       109,956.00 41,306.00 151,262.00         72.70\n",
       "R           100,977.00 27,291.00 128,268.00         78.72\n",
       "PG           35,690.00 12,904.00  48,594.00         73.40\n",
       "G            13,500.00  5,213.00  18,713.00         72.14\n",
       "NC-17           107.00       nan     107.00        100.00"
      ]
     },
     "execution_count": 61,
     "metadata": {},
     "output_type": "execute_result"
    }
   ],
   "source": [
    "MPAAG = Combined_user\n",
    "MPAAG[\"count\"] = 1\n",
    "RG = MPAAG.pivot_table(values ='count', index=['MPAA Rating'],\n",
    "                    columns=['gender'], aggfunc= \"sum\")\n",
    "RG['male'] = RG.m\n",
    "RG['female'] = RG.F + RG.f\n",
    "RG = RG[[4,5]]\n",
    "RG['total'] = RG.male.fillna(0) + RG.female.fillna(0)\n",
    "# Calculation of percentage of rating from male raters.\n",
    "RG['male_percent'] = (RG.male/RG.total) * 100\n",
    "# Combine subcatories under rating R, PG, and PG-13.\n",
    "lst = [11,12,13,14,15,16,17,18]\n",
    "RG1 = RG.ix[lst]\n",
    "RG3 = RG.ix[[4,5,6]]\n",
    "RG4 = RG.ix[[7,8,9,10]]\n",
    "RG2 = RG.ix[[0,1,2,3,4,7,11,19,20]]\n",
    "RG2.ix[6].male = sum(RG1.male)\n",
    "RG2.ix[6].total = sum(RG1.total)\n",
    "RG2.ix[6].male_percent = (RG2.ix[6].male / RG2.ix[6].total)*100\n",
    "RG2.ix[4].male = sum(RG3.male)\n",
    "RG2.ix[4].total = sum(RG3.total)\n",
    "RG2.ix[5].male = sum(RG4.male)\n",
    "RG2.ix[5].female = RG.female.ix[7] + RG.female.ix[8]\n",
    "RG2.ix[5].total = sum(RG4.total)\n",
    "RG2 = RG2.ix[[0,1,4,5,6]]\n",
    "RG2.sort_values(by = \"total\", ascending = False)"
   ]
  },
  {
   "cell_type": "code",
   "execution_count": 62,
   "metadata": {
    "collapsed": false
   },
   "outputs": [
    {
     "data": {
      "text/plain": [
       "<matplotlib.axes._subplots.AxesSubplot at 0x11cc00128>"
      ]
     },
     "execution_count": 62,
     "metadata": {},
     "output_type": "execute_result"
    },
    {
     "data": {
      "image/png": "[encoded data removed]",
      "text/plain": [
       "<matplotlib.figure.Figure at 0x11a16fb38>"
      ]
     },
     "metadata": {},
     "output_type": "display_data"
    }
   ],
   "source": [
    "RG2.male.plot.pie(figsize=(6, 6), colormap='Paired', fontsize =15, title = \"MPAA Rating --- Male\", autopct=\"%1.1f%%\")"
   ]
  },
  {
   "cell_type": "code",
   "execution_count": 63,
   "metadata": {
    "collapsed": false
   },
   "outputs": [
    {
     "data": {
      "text/plain": [
       "<matplotlib.axes._subplots.AxesSubplot at 0x11dd87eb8>"
      ]
     },
     "execution_count": 63,
     "metadata": {},
     "output_type": "execute_result"
    },
    {
     "data": {
      "image/png": "[encoded data removed]",
      "text/plain": [
       "<matplotlib.figure.Figure at 0x11a16f6d8>"
      ]
     },
     "metadata": {},
     "output_type": "display_data"
    }
   ],
   "source": [
    "RG2.female.plot.pie(figsize=(6, 6), colormap='Paired', autopct=\"%1.1f%%\", title = \"MPAA Rating --- Female\", fontsize =15)"
   ]
  },
  {
   "cell_type": "code",
   "execution_count": null,
   "metadata": {
    "collapsed": true
   },
   "outputs": [],
   "source": []
  }
 ],
 "metadata": {
  "kernelspec": {
   "display_name": "Python 2",
   "language": "python",
   "name": "python2"
  },
  "language_info": {
   "codemirror_mode": {
    "name": "ipython",
    "version": 2
   },
   "file_extension": ".py",
   "mimetype": "text/x-python",
   "name": "python",
   "nbconvert_exporter": "python",
   "pygments_lexer": "ipython2",
   "version": "2.7.13"
  }
 },
 "nbformat": 4,
 "nbformat_minor": 0
}
